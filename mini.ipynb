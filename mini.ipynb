{
 "cells": [
  {
   "cell_type": "code",
   "execution_count": 1,
   "metadata": {
    "collapsed": true
   },
   "outputs": [],
   "source": [
    "import numpy as np \n",
    "import pandas as pd\n",
    "import seaborn as sns\n",
    "import matplotlib.pyplot as plt\n",
    "sns.set_style('whitegrid')\n",
    "%matplotlib inline"
   ]
  },
  {
   "cell_type": "code",
   "execution_count": 2,
   "metadata": {
    "collapsed": false
   },
   "outputs": [],
   "source": [
    "df=pd.read_csv('disastergov.csv')"
   ]
  },
  {
   "cell_type": "code",
   "execution_count": 3,
   "metadata": {
    "collapsed": false
   },
   "outputs": [
    {
     "name": "stdout",
     "output_type": "stream",
     "text": [
      "<class 'pandas.core.frame.DataFrame'>\n",
      "RangeIndex: 99492 entries, 0 to 99491\n",
      "Data columns (total 9 columns):\n",
      "lat          99492 non-null float64\n",
      "lng          99492 non-null float64\n",
      "desc         99492 non-null object\n",
      "zip          86637 non-null float64\n",
      "title        99492 non-null object\n",
      "timeStamp    99492 non-null object\n",
      "twp          99449 non-null object\n",
      "addr         98973 non-null object\n",
      "e            99492 non-null int64\n",
      "dtypes: float64(3), int64(1), object(5)\n",
      "memory usage: 6.8+ MB\n"
     ]
    }
   ],
   "source": [
    "df.info()"
   ]
  },
  {
   "cell_type": "code",
   "execution_count": 4,
   "metadata": {
    "collapsed": false
   },
   "outputs": [
    {
     "data": {
      "text/html": [
       "<div>\n",
       "<table border=\"1\" class=\"dataframe\">\n",
       "  <thead>\n",
       "    <tr style=\"text-align: right;\">\n",
       "      <th></th>\n",
       "      <th>lat</th>\n",
       "      <th>lng</th>\n",
       "      <th>desc</th>\n",
       "      <th>zip</th>\n",
       "      <th>title</th>\n",
       "      <th>timeStamp</th>\n",
       "      <th>twp</th>\n",
       "      <th>addr</th>\n",
       "      <th>e</th>\n",
       "    </tr>\n",
       "  </thead>\n",
       "  <tbody>\n",
       "    <tr>\n",
       "      <th>0</th>\n",
       "      <td>40.297876</td>\n",
       "      <td>-75.581294</td>\n",
       "      <td>REINDEER CT &amp; DEAD END;  NEW HANOVER; Station ...</td>\n",
       "      <td>19525.0</td>\n",
       "      <td>EMS: BACK PAINS/INJURY</td>\n",
       "      <td>2015-12-10 17:40:00</td>\n",
       "      <td>NEW HANOVER</td>\n",
       "      <td>REINDEER CT &amp; DEAD END</td>\n",
       "      <td>1</td>\n",
       "    </tr>\n",
       "    <tr>\n",
       "      <th>1</th>\n",
       "      <td>40.258061</td>\n",
       "      <td>-75.264680</td>\n",
       "      <td>BRIAR PATH &amp; WHITEMARSH LN;  HATFIELD TOWNSHIP...</td>\n",
       "      <td>19446.0</td>\n",
       "      <td>EMS: DIABETIC EMERGENCY</td>\n",
       "      <td>2015-12-10 17:40:00</td>\n",
       "      <td>HATFIELD TOWNSHIP</td>\n",
       "      <td>BRIAR PATH &amp; WHITEMARSH LN</td>\n",
       "      <td>1</td>\n",
       "    </tr>\n",
       "    <tr>\n",
       "      <th>2</th>\n",
       "      <td>40.121182</td>\n",
       "      <td>-75.351975</td>\n",
       "      <td>HAWS AVE; NORRISTOWN; 2015-12-10 @ 14:39:21-St...</td>\n",
       "      <td>19401.0</td>\n",
       "      <td>Fire: GAS-ODOR/LEAK</td>\n",
       "      <td>2015-12-10 17:40:00</td>\n",
       "      <td>NORRISTOWN</td>\n",
       "      <td>HAWS AVE</td>\n",
       "      <td>1</td>\n",
       "    </tr>\n",
       "    <tr>\n",
       "      <th>3</th>\n",
       "      <td>40.116153</td>\n",
       "      <td>-75.343513</td>\n",
       "      <td>AIRY ST &amp; SWEDE ST;  NORRISTOWN; Station 308A;...</td>\n",
       "      <td>19401.0</td>\n",
       "      <td>EMS: CARDIAC EMERGENCY</td>\n",
       "      <td>2015-12-10 17:40:01</td>\n",
       "      <td>NORRISTOWN</td>\n",
       "      <td>AIRY ST &amp; SWEDE ST</td>\n",
       "      <td>1</td>\n",
       "    </tr>\n",
       "    <tr>\n",
       "      <th>4</th>\n",
       "      <td>40.251492</td>\n",
       "      <td>-75.603350</td>\n",
       "      <td>CHERRYWOOD CT &amp; DEAD END;  LOWER POTTSGROVE; S...</td>\n",
       "      <td>NaN</td>\n",
       "      <td>EMS: DIZZINESS</td>\n",
       "      <td>2015-12-10 17:40:01</td>\n",
       "      <td>LOWER POTTSGROVE</td>\n",
       "      <td>CHERRYWOOD CT &amp; DEAD END</td>\n",
       "      <td>1</td>\n",
       "    </tr>\n",
       "    <tr>\n",
       "      <th>5</th>\n",
       "      <td>40.253473</td>\n",
       "      <td>-75.283245</td>\n",
       "      <td>CANNON AVE &amp; W 9TH ST;  LANSDALE; Station 345;...</td>\n",
       "      <td>19446.0</td>\n",
       "      <td>EMS: HEAD INJURY</td>\n",
       "      <td>2015-12-10 17:40:01</td>\n",
       "      <td>LANSDALE</td>\n",
       "      <td>CANNON AVE &amp; W 9TH ST</td>\n",
       "      <td>1</td>\n",
       "    </tr>\n",
       "    <tr>\n",
       "      <th>6</th>\n",
       "      <td>40.182111</td>\n",
       "      <td>-75.127795</td>\n",
       "      <td>LAUREL AVE &amp; OAKDALE AVE;  HORSHAM; Station 35...</td>\n",
       "      <td>19044.0</td>\n",
       "      <td>EMS: NAUSEA/VOMITING</td>\n",
       "      <td>2015-12-10 17:40:01</td>\n",
       "      <td>HORSHAM</td>\n",
       "      <td>LAUREL AVE &amp; OAKDALE AVE</td>\n",
       "      <td>1</td>\n",
       "    </tr>\n",
       "    <tr>\n",
       "      <th>7</th>\n",
       "      <td>40.217286</td>\n",
       "      <td>-75.405182</td>\n",
       "      <td>COLLEGEVILLE RD &amp; LYWISKI RD;  SKIPPACK; Stati...</td>\n",
       "      <td>19426.0</td>\n",
       "      <td>EMS: RESPIRATORY EMERGENCY</td>\n",
       "      <td>2015-12-10 17:40:01</td>\n",
       "      <td>SKIPPACK</td>\n",
       "      <td>COLLEGEVILLE RD &amp; LYWISKI RD</td>\n",
       "      <td>1</td>\n",
       "    </tr>\n",
       "    <tr>\n",
       "      <th>8</th>\n",
       "      <td>40.289027</td>\n",
       "      <td>-75.399590</td>\n",
       "      <td>MAIN ST &amp; OLD SUMNEYTOWN PIKE;  LOWER SALFORD;...</td>\n",
       "      <td>19438.0</td>\n",
       "      <td>EMS: SYNCOPAL EPISODE</td>\n",
       "      <td>2015-12-10 17:40:01</td>\n",
       "      <td>LOWER SALFORD</td>\n",
       "      <td>MAIN ST &amp; OLD SUMNEYTOWN PIKE</td>\n",
       "      <td>1</td>\n",
       "    </tr>\n",
       "    <tr>\n",
       "      <th>9</th>\n",
       "      <td>40.102398</td>\n",
       "      <td>-75.291458</td>\n",
       "      <td>BLUEROUTE  &amp; RAMP I476 NB TO CHEMICAL RD; PLYM...</td>\n",
       "      <td>19462.0</td>\n",
       "      <td>Traffic: VEHICLE ACCIDENT -</td>\n",
       "      <td>2015-12-10 17:40:01</td>\n",
       "      <td>PLYMOUTH</td>\n",
       "      <td>BLUEROUTE  &amp; RAMP I476 NB TO CHEMICAL RD</td>\n",
       "      <td>1</td>\n",
       "    </tr>\n",
       "    <tr>\n",
       "      <th>10</th>\n",
       "      <td>40.231990</td>\n",
       "      <td>-75.251891</td>\n",
       "      <td>RT202 PKWY &amp; KNAPP RD; MONTGOMERY; 2015-12-10 ...</td>\n",
       "      <td>NaN</td>\n",
       "      <td>Traffic: VEHICLE ACCIDENT -</td>\n",
       "      <td>2015-12-10 17:40:01</td>\n",
       "      <td>MONTGOMERY</td>\n",
       "      <td>RT202 PKWY &amp; KNAPP RD</td>\n",
       "      <td>1</td>\n",
       "    </tr>\n",
       "    <tr>\n",
       "      <th>11</th>\n",
       "      <td>40.084161</td>\n",
       "      <td>-75.308386</td>\n",
       "      <td>BROOK RD &amp; COLWELL LN; PLYMOUTH; 2015-12-10 @ ...</td>\n",
       "      <td>19428.0</td>\n",
       "      <td>Traffic: VEHICLE ACCIDENT -</td>\n",
       "      <td>2015-12-10 17:40:02</td>\n",
       "      <td>PLYMOUTH</td>\n",
       "      <td>BROOK RD &amp; COLWELL LN</td>\n",
       "      <td>1</td>\n",
       "    </tr>\n",
       "    <tr>\n",
       "      <th>12</th>\n",
       "      <td>40.174131</td>\n",
       "      <td>-75.098491</td>\n",
       "      <td>BYBERRY AVE &amp; S WARMINSTER RD; UPPER MORELAND;...</td>\n",
       "      <td>19040.0</td>\n",
       "      <td>Traffic: VEHICLE ACCIDENT -</td>\n",
       "      <td>2015-12-10 17:40:02</td>\n",
       "      <td>UPPER MORELAND</td>\n",
       "      <td>BYBERRY AVE &amp; S WARMINSTER RD</td>\n",
       "      <td>1</td>\n",
       "    </tr>\n",
       "    <tr>\n",
       "      <th>13</th>\n",
       "      <td>40.062974</td>\n",
       "      <td>-75.135914</td>\n",
       "      <td>OLD YORK RD &amp; VALLEY RD; CHELTENHAM; 2015-12-1...</td>\n",
       "      <td>19027.0</td>\n",
       "      <td>Traffic: VEHICLE ACCIDENT -</td>\n",
       "      <td>2015-12-10 17:40:02</td>\n",
       "      <td>CHELTENHAM</td>\n",
       "      <td>OLD YORK RD &amp; VALLEY RD</td>\n",
       "      <td>1</td>\n",
       "    </tr>\n",
       "    <tr>\n",
       "      <th>14</th>\n",
       "      <td>40.097222</td>\n",
       "      <td>-75.376195</td>\n",
       "      <td>SCHUYLKILL EXPY &amp; CROTON RD UNDERPASS; UPPER M...</td>\n",
       "      <td>NaN</td>\n",
       "      <td>Traffic: VEHICLE ACCIDENT -</td>\n",
       "      <td>2015-12-10 17:40:02</td>\n",
       "      <td>UPPER MERION</td>\n",
       "      <td>SCHUYLKILL EXPY &amp; CROTON RD UNDERPASS</td>\n",
       "      <td>1</td>\n",
       "    </tr>\n",
       "    <tr>\n",
       "      <th>15</th>\n",
       "      <td>40.223778</td>\n",
       "      <td>-75.235399</td>\n",
       "      <td>STUMP RD &amp; WITCHWOOD DR; MONTGOMERY; 2015-12-1...</td>\n",
       "      <td>18936.0</td>\n",
       "      <td>Traffic: VEHICLE ACCIDENT -</td>\n",
       "      <td>2015-12-10 17:40:02</td>\n",
       "      <td>MONTGOMERY</td>\n",
       "      <td>STUMP RD &amp; WITCHWOOD DR</td>\n",
       "      <td>1</td>\n",
       "    </tr>\n",
       "    <tr>\n",
       "      <th>16</th>\n",
       "      <td>40.243258</td>\n",
       "      <td>-75.286552</td>\n",
       "      <td>SUSQUEHANNA AVE &amp; W MAIN ST;  LANSDALE; Statio...</td>\n",
       "      <td>19446.0</td>\n",
       "      <td>EMS: RESPIRATORY EMERGENCY</td>\n",
       "      <td>2015-12-10 17:46:01</td>\n",
       "      <td>LANSDALE</td>\n",
       "      <td>SUSQUEHANNA AVE &amp; W MAIN ST</td>\n",
       "      <td>1</td>\n",
       "    </tr>\n",
       "    <tr>\n",
       "      <th>17</th>\n",
       "      <td>40.312181</td>\n",
       "      <td>-75.574260</td>\n",
       "      <td>CHARLOTTE ST &amp; MILES RD;  NEW HANOVER; Station...</td>\n",
       "      <td>19525.0</td>\n",
       "      <td>EMS: DIZZINESS</td>\n",
       "      <td>2015-12-10 17:47:01</td>\n",
       "      <td>NEW HANOVER</td>\n",
       "      <td>CHARLOTTE ST &amp; MILES RD</td>\n",
       "      <td>1</td>\n",
       "    </tr>\n",
       "    <tr>\n",
       "      <th>18</th>\n",
       "      <td>40.114239</td>\n",
       "      <td>-75.338508</td>\n",
       "      <td>PENN ST &amp; ARCH ST;  NORRISTOWN; Station 308A; ...</td>\n",
       "      <td>19401.0</td>\n",
       "      <td>EMS: VEHICLE ACCIDENT</td>\n",
       "      <td>2015-12-10 17:47:01</td>\n",
       "      <td>NORRISTOWN</td>\n",
       "      <td>PENN ST &amp; ARCH ST</td>\n",
       "      <td>1</td>\n",
       "    </tr>\n",
       "    <tr>\n",
       "      <th>19</th>\n",
       "      <td>40.209337</td>\n",
       "      <td>-75.135266</td>\n",
       "      <td>COUNTY LINE RD &amp; WILLOW DR; HORSHAM; 2015-12-1...</td>\n",
       "      <td>18974.0</td>\n",
       "      <td>Traffic: DISABLED VEHICLE -</td>\n",
       "      <td>2015-12-10 17:47:02</td>\n",
       "      <td>HORSHAM</td>\n",
       "      <td>COUNTY LINE RD &amp; WILLOW DR</td>\n",
       "      <td>1</td>\n",
       "    </tr>\n",
       "    <tr>\n",
       "      <th>20</th>\n",
       "      <td>40.114239</td>\n",
       "      <td>-75.338508</td>\n",
       "      <td>PENN ST &amp; ARCH ST; NORRISTOWN; 2015-12-10 @ 17...</td>\n",
       "      <td>19401.0</td>\n",
       "      <td>Traffic: VEHICLE ACCIDENT -</td>\n",
       "      <td>2015-12-10 17:47:02</td>\n",
       "      <td>NORRISTOWN</td>\n",
       "      <td>PENN ST &amp; ARCH ST</td>\n",
       "      <td>1</td>\n",
       "    </tr>\n",
       "    <tr>\n",
       "      <th>21</th>\n",
       "      <td>40.117948</td>\n",
       "      <td>-75.209848</td>\n",
       "      <td>CHURCH RD &amp; REDCOAT DR; WHITEMARSH; 2015-12-10...</td>\n",
       "      <td>19031.0</td>\n",
       "      <td>Traffic: DISABLED VEHICLE -</td>\n",
       "      <td>2015-12-10 17:57:02</td>\n",
       "      <td>WHITEMARSH</td>\n",
       "      <td>CHURCH RD &amp; REDCOAT DR</td>\n",
       "      <td>1</td>\n",
       "    </tr>\n",
       "    <tr>\n",
       "      <th>22</th>\n",
       "      <td>40.199006</td>\n",
       "      <td>-75.300058</td>\n",
       "      <td>LILAC CT &amp; PRIMROSE DR; UPPER GWYNEDD; 2015-12...</td>\n",
       "      <td>19446.0</td>\n",
       "      <td>Fire: APPLIANCE FIRE</td>\n",
       "      <td>2015-12-10 18:02:01</td>\n",
       "      <td>UPPER GWYNEDD</td>\n",
       "      <td>LILAC CT &amp; PRIMROSE DR</td>\n",
       "      <td>1</td>\n",
       "    </tr>\n",
       "    <tr>\n",
       "      <th>23</th>\n",
       "      <td>40.143326</td>\n",
       "      <td>-75.422819</td>\n",
       "      <td>RT422  &amp; PAWLINGS RD OVERPASS; LOWER PROVIDENC...</td>\n",
       "      <td>NaN</td>\n",
       "      <td>Traffic: DISABLED VEHICLE -</td>\n",
       "      <td>2015-12-10 18:02:02</td>\n",
       "      <td>LOWER PROVIDENCE</td>\n",
       "      <td>RT422  &amp; PAWLINGS RD OVERPASS</td>\n",
       "      <td>1</td>\n",
       "    </tr>\n",
       "    <tr>\n",
       "      <th>24</th>\n",
       "      <td>40.153268</td>\n",
       "      <td>-75.189558</td>\n",
       "      <td>SUMMIT AVE &amp; RT309 UNDERPASS; UPPER DUBLIN; 20...</td>\n",
       "      <td>NaN</td>\n",
       "      <td>Traffic: VEHICLE ACCIDENT -</td>\n",
       "      <td>2015-12-10 18:02:02</td>\n",
       "      <td>UPPER DUBLIN</td>\n",
       "      <td>SUMMIT AVE &amp; RT309 UNDERPASS</td>\n",
       "      <td>1</td>\n",
       "    </tr>\n",
       "    <tr>\n",
       "      <th>25</th>\n",
       "      <td>40.133037</td>\n",
       "      <td>-75.408463</td>\n",
       "      <td>SHANNONDELL DR &amp; SHANNONDELL BLVD;  LOWER PROV...</td>\n",
       "      <td>19403.0</td>\n",
       "      <td>EMS: GENERAL WEAKNESS</td>\n",
       "      <td>2015-12-10 18:06:25</td>\n",
       "      <td>LOWER PROVIDENCE</td>\n",
       "      <td>SHANNONDELL DR &amp; SHANNONDELL BLVD</td>\n",
       "      <td>1</td>\n",
       "    </tr>\n",
       "    <tr>\n",
       "      <th>26</th>\n",
       "      <td>40.155283</td>\n",
       "      <td>-75.264230</td>\n",
       "      <td>PENLLYN BLUE BELL PIKE &amp; VILLAGE CIR;  WHITPAI...</td>\n",
       "      <td>19422.0</td>\n",
       "      <td>EMS: HEAD INJURY</td>\n",
       "      <td>2015-12-10 18:06:25</td>\n",
       "      <td>WHITPAIN</td>\n",
       "      <td>PENLLYN BLUE BELL PIKE &amp; VILLAGE CIR</td>\n",
       "      <td>1</td>\n",
       "    </tr>\n",
       "    <tr>\n",
       "      <th>27</th>\n",
       "      <td>40.028903</td>\n",
       "      <td>-75.351822</td>\n",
       "      <td>EDENTON PL &amp; DURHAM DR; DELAWARE COUNTY; 2015-...</td>\n",
       "      <td>19085.0</td>\n",
       "      <td>Fire: CARBON MONOXIDE DETECTOR</td>\n",
       "      <td>2015-12-10 18:06:25</td>\n",
       "      <td>DELAWARE COUNTY</td>\n",
       "      <td>EDENTON PL &amp; DURHAM DR</td>\n",
       "      <td>1</td>\n",
       "    </tr>\n",
       "    <tr>\n",
       "      <th>28</th>\n",
       "      <td>40.097222</td>\n",
       "      <td>-75.376195</td>\n",
       "      <td>SCHUYLKILL EXPY &amp; WEADLEY RD OVERPASS; UPPER M...</td>\n",
       "      <td>NaN</td>\n",
       "      <td>Traffic: VEHICLE ACCIDENT -</td>\n",
       "      <td>2015-12-10 18:06:26</td>\n",
       "      <td>UPPER MERION</td>\n",
       "      <td>SCHUYLKILL EXPY &amp; WEADLEY RD OVERPASS</td>\n",
       "      <td>1</td>\n",
       "    </tr>\n",
       "    <tr>\n",
       "      <th>29</th>\n",
       "      <td>40.209337</td>\n",
       "      <td>-75.135266</td>\n",
       "      <td>COUNTY LINE RD &amp; WILLOW DR; HORSHAM; 2015-12-1...</td>\n",
       "      <td>18974.0</td>\n",
       "      <td>Traffic: DISABLED VEHICLE -</td>\n",
       "      <td>2015-12-10 18:11:01</td>\n",
       "      <td>HORSHAM</td>\n",
       "      <td>COUNTY LINE RD &amp; WILLOW DR</td>\n",
       "      <td>1</td>\n",
       "    </tr>\n",
       "    <tr>\n",
       "      <th>...</th>\n",
       "      <td>...</td>\n",
       "      <td>...</td>\n",
       "      <td>...</td>\n",
       "      <td>...</td>\n",
       "      <td>...</td>\n",
       "      <td>...</td>\n",
       "      <td>...</td>\n",
       "      <td>...</td>\n",
       "      <td>...</td>\n",
       "    </tr>\n",
       "    <tr>\n",
       "      <th>99462</th>\n",
       "      <td>40.274137</td>\n",
       "      <td>-75.660469</td>\n",
       "      <td>UPLAND SQUARE DR &amp; SELL RD;  WEST POTTSGROVE; ...</td>\n",
       "      <td>19464.0</td>\n",
       "      <td>EMS: UNKNOWN MEDICAL EMERGENCY</td>\n",
       "      <td>2016-08-24 09:41:00</td>\n",
       "      <td>WEST POTTSGROVE</td>\n",
       "      <td>UPLAND SQUARE DR &amp; SELL RD</td>\n",
       "      <td>1</td>\n",
       "    </tr>\n",
       "    <tr>\n",
       "      <th>99463</th>\n",
       "      <td>40.254768</td>\n",
       "      <td>-75.660459</td>\n",
       "      <td>SHOEMAKER RD &amp; ROBINSON ST;  POTTSTOWN; Statio...</td>\n",
       "      <td>19464.0</td>\n",
       "      <td>EMS: UNKNOWN MEDICAL EMERGENCY</td>\n",
       "      <td>2016-08-24 09:42:00</td>\n",
       "      <td>POTTSTOWN</td>\n",
       "      <td>SHOEMAKER RD &amp; ROBINSON ST</td>\n",
       "      <td>1</td>\n",
       "    </tr>\n",
       "    <tr>\n",
       "      <th>99464</th>\n",
       "      <td>40.163730</td>\n",
       "      <td>-75.082753</td>\n",
       "      <td>KAREN LN &amp; BYBERRY RD;  UPPER MORELAND; Statio...</td>\n",
       "      <td>19040.0</td>\n",
       "      <td>EMS: FALL VICTIM</td>\n",
       "      <td>2016-08-24 09:51:06</td>\n",
       "      <td>UPPER MORELAND</td>\n",
       "      <td>KAREN LN &amp; BYBERRY RD</td>\n",
       "      <td>1</td>\n",
       "    </tr>\n",
       "    <tr>\n",
       "      <th>99465</th>\n",
       "      <td>40.114928</td>\n",
       "      <td>-75.340307</td>\n",
       "      <td>AIRY ST &amp; GREEN ST;  NORRISTOWN; Station 308A;...</td>\n",
       "      <td>19401.0</td>\n",
       "      <td>EMS: RESPIRATORY EMERGENCY</td>\n",
       "      <td>2016-08-24 09:56:13</td>\n",
       "      <td>NORRISTOWN</td>\n",
       "      <td>AIRY ST &amp; GREEN ST</td>\n",
       "      <td>1</td>\n",
       "    </tr>\n",
       "    <tr>\n",
       "      <th>99466</th>\n",
       "      <td>40.159820</td>\n",
       "      <td>-75.288436</td>\n",
       "      <td>WENTZ RD &amp; SILO CIR;  WHITPAIN; Station 385; 2...</td>\n",
       "      <td>19422.0</td>\n",
       "      <td>EMS: NAUSEA/VOMITING</td>\n",
       "      <td>2016-08-24 10:01:00</td>\n",
       "      <td>WHITPAIN</td>\n",
       "      <td>WENTZ RD &amp; SILO CIR</td>\n",
       "      <td>1</td>\n",
       "    </tr>\n",
       "    <tr>\n",
       "      <th>99467</th>\n",
       "      <td>40.255271</td>\n",
       "      <td>-75.340722</td>\n",
       "      <td>WOODS DR &amp; DETWILER RD;  TOWAMENCIN; Station 3...</td>\n",
       "      <td>19446.0</td>\n",
       "      <td>EMS: ALTERED MENTAL STATUS</td>\n",
       "      <td>2016-08-24 10:12:01</td>\n",
       "      <td>TOWAMENCIN</td>\n",
       "      <td>WOODS DR &amp; DETWILER RD</td>\n",
       "      <td>1</td>\n",
       "    </tr>\n",
       "    <tr>\n",
       "      <th>99468</th>\n",
       "      <td>40.088355</td>\n",
       "      <td>-75.382100</td>\n",
       "      <td>DEKALB PIKE &amp; ALLENDALE RD; UPPER MERION; 2016...</td>\n",
       "      <td>19406.0</td>\n",
       "      <td>Fire: FIRE ALARM</td>\n",
       "      <td>2016-08-24 10:12:01</td>\n",
       "      <td>UPPER MERION</td>\n",
       "      <td>DEKALB PIKE &amp; ALLENDALE RD</td>\n",
       "      <td>1</td>\n",
       "    </tr>\n",
       "    <tr>\n",
       "      <th>99469</th>\n",
       "      <td>40.123868</td>\n",
       "      <td>-75.341678</td>\n",
       "      <td>MARKLEY ST &amp; JAMES ST; NORRISTOWN; 2016-08-24 ...</td>\n",
       "      <td>19401.0</td>\n",
       "      <td>Fire: FIRE ALARM</td>\n",
       "      <td>2016-08-24 10:12:01</td>\n",
       "      <td>NORRISTOWN</td>\n",
       "      <td>MARKLEY ST &amp; JAMES ST</td>\n",
       "      <td>1</td>\n",
       "    </tr>\n",
       "    <tr>\n",
       "      <th>99470</th>\n",
       "      <td>40.185798</td>\n",
       "      <td>-75.536484</td>\n",
       "      <td>WALNUT ST &amp; S 5TH AVE;  ROYERSFORD; Station 32...</td>\n",
       "      <td>19468.0</td>\n",
       "      <td>EMS: ALTERED MENTAL STATUS</td>\n",
       "      <td>2016-08-24 10:17:01</td>\n",
       "      <td>ROYERSFORD</td>\n",
       "      <td>WALNUT ST &amp; S 5TH AVE</td>\n",
       "      <td>1</td>\n",
       "    </tr>\n",
       "    <tr>\n",
       "      <th>99471</th>\n",
       "      <td>40.000763</td>\n",
       "      <td>-75.279769</td>\n",
       "      <td>WYNNEWOOD RD &amp; W OLD WYNNEWOOD RD;  LOWER MERI...</td>\n",
       "      <td>19096.0</td>\n",
       "      <td>EMS: RESPIRATORY EMERGENCY</td>\n",
       "      <td>2016-08-24 10:17:01</td>\n",
       "      <td>LOWER MERION</td>\n",
       "      <td>WYNNEWOOD RD &amp; W OLD WYNNEWOOD RD</td>\n",
       "      <td>1</td>\n",
       "    </tr>\n",
       "    <tr>\n",
       "      <th>99472</th>\n",
       "      <td>40.129398</td>\n",
       "      <td>-75.332213</td>\n",
       "      <td>PINE ST &amp; W ROBERTS ST;  NORRISTOWN; Station 3...</td>\n",
       "      <td>19401.0</td>\n",
       "      <td>EMS: CARDIAC EMERGENCY</td>\n",
       "      <td>2016-08-24 10:22:00</td>\n",
       "      <td>NORRISTOWN</td>\n",
       "      <td>PINE ST &amp; W ROBERTS ST</td>\n",
       "      <td>1</td>\n",
       "    </tr>\n",
       "    <tr>\n",
       "      <th>99473</th>\n",
       "      <td>40.133533</td>\n",
       "      <td>-75.056460</td>\n",
       "      <td>BUCK RD &amp; WAVERLY LN;  BRYN ATHYN; Station 355...</td>\n",
       "      <td>19009.0</td>\n",
       "      <td>EMS: GENERAL WEAKNESS</td>\n",
       "      <td>2016-08-24 10:27:01</td>\n",
       "      <td>BRYN ATHYN</td>\n",
       "      <td>BUCK RD &amp; WAVERLY LN</td>\n",
       "      <td>1</td>\n",
       "    </tr>\n",
       "    <tr>\n",
       "      <th>99474</th>\n",
       "      <td>40.078678</td>\n",
       "      <td>-75.086943</td>\n",
       "      <td>HUNTINGDON PIKE &amp; FILLMORE ST;  ROCKLEDGE; Sta...</td>\n",
       "      <td>19046.0</td>\n",
       "      <td>EMS: SEIZURES</td>\n",
       "      <td>2016-08-24 10:27:01</td>\n",
       "      <td>ROCKLEDGE</td>\n",
       "      <td>HUNTINGDON PIKE &amp; FILLMORE ST</td>\n",
       "      <td>1</td>\n",
       "    </tr>\n",
       "    <tr>\n",
       "      <th>99475</th>\n",
       "      <td>40.133715</td>\n",
       "      <td>-75.229630</td>\n",
       "      <td>SHEAFF LN &amp; WHITEMARSH VALLEY RD; WHITEMARSH; ...</td>\n",
       "      <td>19034.0</td>\n",
       "      <td>Traffic: VEHICLE ACCIDENT -</td>\n",
       "      <td>2016-08-24 10:32:01</td>\n",
       "      <td>WHITEMARSH</td>\n",
       "      <td>SHEAFF LN &amp; WHITEMARSH VALLEY RD</td>\n",
       "      <td>1</td>\n",
       "    </tr>\n",
       "    <tr>\n",
       "      <th>99476</th>\n",
       "      <td>40.257820</td>\n",
       "      <td>-75.624294</td>\n",
       "      <td>PARK DR &amp; N ADAMS ST;  POTTSTOWN; Station 329;...</td>\n",
       "      <td>19464.0</td>\n",
       "      <td>EMS: RESPIRATORY EMERGENCY</td>\n",
       "      <td>2016-08-24 10:47:00</td>\n",
       "      <td>POTTSTOWN</td>\n",
       "      <td>PARK DR &amp; N ADAMS ST</td>\n",
       "      <td>1</td>\n",
       "    </tr>\n",
       "    <tr>\n",
       "      <th>99477</th>\n",
       "      <td>40.095652</td>\n",
       "      <td>-75.244877</td>\n",
       "      <td>FOX HOUND DR &amp; MARBLE HL;  WHITEMARSH; Station...</td>\n",
       "      <td>19444.0</td>\n",
       "      <td>EMS: SUBJECT IN PAIN</td>\n",
       "      <td>2016-08-24 10:47:00</td>\n",
       "      <td>WHITEMARSH</td>\n",
       "      <td>FOX HOUND DR &amp; MARBLE HL</td>\n",
       "      <td>1</td>\n",
       "    </tr>\n",
       "    <tr>\n",
       "      <th>99478</th>\n",
       "      <td>40.100344</td>\n",
       "      <td>-75.293955</td>\n",
       "      <td>CHEMICAL RD &amp; GALLAGHER RD; PLYMOUTH; 2016-08-...</td>\n",
       "      <td>19462.0</td>\n",
       "      <td>Traffic: VEHICLE ACCIDENT -</td>\n",
       "      <td>2016-08-24 10:47:02</td>\n",
       "      <td>PLYMOUTH</td>\n",
       "      <td>CHEMICAL RD &amp; GALLAGHER RD</td>\n",
       "      <td>1</td>\n",
       "    </tr>\n",
       "    <tr>\n",
       "      <th>99479</th>\n",
       "      <td>40.221227</td>\n",
       "      <td>-75.288737</td>\n",
       "      <td>SUMNEYTOWN PIKE &amp; RR OVERPASS;  UPPER GWYNEDD;...</td>\n",
       "      <td>NaN</td>\n",
       "      <td>EMS: CARDIAC EMERGENCY</td>\n",
       "      <td>2016-08-24 10:52:01</td>\n",
       "      <td>UPPER GWYNEDD</td>\n",
       "      <td>SUMNEYTOWN PIKE &amp; RR OVERPASS</td>\n",
       "      <td>1</td>\n",
       "    </tr>\n",
       "    <tr>\n",
       "      <th>99480</th>\n",
       "      <td>40.221227</td>\n",
       "      <td>-75.288737</td>\n",
       "      <td>SUMNEYTOWN PIKE &amp; RR OVERPASS;  UPPER GWYNEDD;...</td>\n",
       "      <td>NaN</td>\n",
       "      <td>EMS: DIABETIC EMERGENCY</td>\n",
       "      <td>2016-08-24 10:52:01</td>\n",
       "      <td>UPPER GWYNEDD</td>\n",
       "      <td>SUMNEYTOWN PIKE &amp; RR OVERPASS</td>\n",
       "      <td>1</td>\n",
       "    </tr>\n",
       "    <tr>\n",
       "      <th>99481</th>\n",
       "      <td>40.221227</td>\n",
       "      <td>-75.288737</td>\n",
       "      <td>SUMNEYTOWN PIKE &amp; RR OVERPASS;  UPPER GWYNEDD;...</td>\n",
       "      <td>NaN</td>\n",
       "      <td>EMS: DIZZINESS</td>\n",
       "      <td>2016-08-24 10:52:01</td>\n",
       "      <td>UPPER GWYNEDD</td>\n",
       "      <td>SUMNEYTOWN PIKE &amp; RR OVERPASS</td>\n",
       "      <td>1</td>\n",
       "    </tr>\n",
       "    <tr>\n",
       "      <th>99482</th>\n",
       "      <td>40.340072</td>\n",
       "      <td>-75.591709</td>\n",
       "      <td>RT100 SB &amp; E PHILADELPHIA AVE OVERPASS; DOUGLA...</td>\n",
       "      <td>NaN</td>\n",
       "      <td>Traffic: DISABLED VEHICLE -</td>\n",
       "      <td>2016-08-24 10:52:03</td>\n",
       "      <td>DOUGLASS</td>\n",
       "      <td>RT100 SB &amp; E PHILADELPHIA AVE OVERPASS</td>\n",
       "      <td>1</td>\n",
       "    </tr>\n",
       "    <tr>\n",
       "      <th>99483</th>\n",
       "      <td>40.084465</td>\n",
       "      <td>-75.390173</td>\n",
       "      <td>DEKALB PIKE &amp; KING OF PRUSSIA RD;  UPPER MERIO...</td>\n",
       "      <td>19406.0</td>\n",
       "      <td>EMS: BACK PAINS/INJURY</td>\n",
       "      <td>2016-08-24 10:57:00</td>\n",
       "      <td>UPPER MERION</td>\n",
       "      <td>DEKALB PIKE &amp; KING OF PRUSSIA RD</td>\n",
       "      <td>1</td>\n",
       "    </tr>\n",
       "    <tr>\n",
       "      <th>99484</th>\n",
       "      <td>40.133037</td>\n",
       "      <td>-75.408463</td>\n",
       "      <td>SHANNONDELL DR &amp; SHANNONDELL BLVD; LOWER PROVI...</td>\n",
       "      <td>19403.0</td>\n",
       "      <td>Fire: FIRE ALARM</td>\n",
       "      <td>2016-08-24 10:57:00</td>\n",
       "      <td>LOWER PROVIDENCE</td>\n",
       "      <td>SHANNONDELL DR &amp; SHANNONDELL BLVD</td>\n",
       "      <td>1</td>\n",
       "    </tr>\n",
       "    <tr>\n",
       "      <th>99485</th>\n",
       "      <td>40.143601</td>\n",
       "      <td>-75.427877</td>\n",
       "      <td>EAGLEVILLE RD &amp; REDTAIL RD; LOWER PROVIDENCE; ...</td>\n",
       "      <td>19403.0</td>\n",
       "      <td>Traffic: DISABLED VEHICLE -</td>\n",
       "      <td>2016-08-24 10:57:01</td>\n",
       "      <td>LOWER PROVIDENCE</td>\n",
       "      <td>EAGLEVILLE RD &amp; REDTAIL RD</td>\n",
       "      <td>1</td>\n",
       "    </tr>\n",
       "    <tr>\n",
       "      <th>99486</th>\n",
       "      <td>40.179225</td>\n",
       "      <td>-75.180572</td>\n",
       "      <td>WELSH RD &amp; NORRISTOWN RD; HORSHAM; 2016-08-24 ...</td>\n",
       "      <td>19044.0</td>\n",
       "      <td>Traffic: VEHICLE ACCIDENT -</td>\n",
       "      <td>2016-08-24 11:02:02</td>\n",
       "      <td>HORSHAM</td>\n",
       "      <td>WELSH RD &amp; NORRISTOWN RD</td>\n",
       "      <td>1</td>\n",
       "    </tr>\n",
       "    <tr>\n",
       "      <th>99487</th>\n",
       "      <td>40.132869</td>\n",
       "      <td>-75.333515</td>\n",
       "      <td>MARKLEY ST &amp; W LOGAN ST; NORRISTOWN; 2016-08-2...</td>\n",
       "      <td>19401.0</td>\n",
       "      <td>Traffic: VEHICLE ACCIDENT -</td>\n",
       "      <td>2016-08-24 11:06:00</td>\n",
       "      <td>NORRISTOWN</td>\n",
       "      <td>MARKLEY ST &amp; W LOGAN ST</td>\n",
       "      <td>1</td>\n",
       "    </tr>\n",
       "    <tr>\n",
       "      <th>99488</th>\n",
       "      <td>40.006974</td>\n",
       "      <td>-75.289080</td>\n",
       "      <td>LANCASTER AVE &amp; RITTENHOUSE PL; LOWER MERION; ...</td>\n",
       "      <td>19003.0</td>\n",
       "      <td>Traffic: VEHICLE ACCIDENT -</td>\n",
       "      <td>2016-08-24 11:07:02</td>\n",
       "      <td>LOWER MERION</td>\n",
       "      <td>LANCASTER AVE &amp; RITTENHOUSE PL</td>\n",
       "      <td>1</td>\n",
       "    </tr>\n",
       "    <tr>\n",
       "      <th>99489</th>\n",
       "      <td>40.115429</td>\n",
       "      <td>-75.334679</td>\n",
       "      <td>CHESTNUT ST &amp; WALNUT ST;  NORRISTOWN; Station ...</td>\n",
       "      <td>19401.0</td>\n",
       "      <td>EMS: FALL VICTIM</td>\n",
       "      <td>2016-08-24 11:12:00</td>\n",
       "      <td>NORRISTOWN</td>\n",
       "      <td>CHESTNUT ST &amp; WALNUT ST</td>\n",
       "      <td>1</td>\n",
       "    </tr>\n",
       "    <tr>\n",
       "      <th>99490</th>\n",
       "      <td>40.186431</td>\n",
       "      <td>-75.192555</td>\n",
       "      <td>WELSH RD &amp; WEBSTER LN;  HORSHAM; Station 352; ...</td>\n",
       "      <td>19002.0</td>\n",
       "      <td>EMS: NAUSEA/VOMITING</td>\n",
       "      <td>2016-08-24 11:17:01</td>\n",
       "      <td>HORSHAM</td>\n",
       "      <td>WELSH RD &amp; WEBSTER LN</td>\n",
       "      <td>1</td>\n",
       "    </tr>\n",
       "    <tr>\n",
       "      <th>99491</th>\n",
       "      <td>40.207055</td>\n",
       "      <td>-75.317952</td>\n",
       "      <td>MORRIS RD &amp; S BROAD ST; UPPER GWYNEDD; 2016-08...</td>\n",
       "      <td>19446.0</td>\n",
       "      <td>Traffic: VEHICLE ACCIDENT -</td>\n",
       "      <td>2016-08-24 11:17:02</td>\n",
       "      <td>UPPER GWYNEDD</td>\n",
       "      <td>MORRIS RD &amp; S BROAD ST</td>\n",
       "      <td>1</td>\n",
       "    </tr>\n",
       "  </tbody>\n",
       "</table>\n",
       "<p>99492 rows × 9 columns</p>\n",
       "</div>"
      ],
      "text/plain": [
       "             lat        lng  \\\n",
       "0      40.297876 -75.581294   \n",
       "1      40.258061 -75.264680   \n",
       "2      40.121182 -75.351975   \n",
       "3      40.116153 -75.343513   \n",
       "4      40.251492 -75.603350   \n",
       "5      40.253473 -75.283245   \n",
       "6      40.182111 -75.127795   \n",
       "7      40.217286 -75.405182   \n",
       "8      40.289027 -75.399590   \n",
       "9      40.102398 -75.291458   \n",
       "10     40.231990 -75.251891   \n",
       "11     40.084161 -75.308386   \n",
       "12     40.174131 -75.098491   \n",
       "13     40.062974 -75.135914   \n",
       "14     40.097222 -75.376195   \n",
       "15     40.223778 -75.235399   \n",
       "16     40.243258 -75.286552   \n",
       "17     40.312181 -75.574260   \n",
       "18     40.114239 -75.338508   \n",
       "19     40.209337 -75.135266   \n",
       "20     40.114239 -75.338508   \n",
       "21     40.117948 -75.209848   \n",
       "22     40.199006 -75.300058   \n",
       "23     40.143326 -75.422819   \n",
       "24     40.153268 -75.189558   \n",
       "25     40.133037 -75.408463   \n",
       "26     40.155283 -75.264230   \n",
       "27     40.028903 -75.351822   \n",
       "28     40.097222 -75.376195   \n",
       "29     40.209337 -75.135266   \n",
       "...          ...        ...   \n",
       "99462  40.274137 -75.660469   \n",
       "99463  40.254768 -75.660459   \n",
       "99464  40.163730 -75.082753   \n",
       "99465  40.114928 -75.340307   \n",
       "99466  40.159820 -75.288436   \n",
       "99467  40.255271 -75.340722   \n",
       "99468  40.088355 -75.382100   \n",
       "99469  40.123868 -75.341678   \n",
       "99470  40.185798 -75.536484   \n",
       "99471  40.000763 -75.279769   \n",
       "99472  40.129398 -75.332213   \n",
       "99473  40.133533 -75.056460   \n",
       "99474  40.078678 -75.086943   \n",
       "99475  40.133715 -75.229630   \n",
       "99476  40.257820 -75.624294   \n",
       "99477  40.095652 -75.244877   \n",
       "99478  40.100344 -75.293955   \n",
       "99479  40.221227 -75.288737   \n",
       "99480  40.221227 -75.288737   \n",
       "99481  40.221227 -75.288737   \n",
       "99482  40.340072 -75.591709   \n",
       "99483  40.084465 -75.390173   \n",
       "99484  40.133037 -75.408463   \n",
       "99485  40.143601 -75.427877   \n",
       "99486  40.179225 -75.180572   \n",
       "99487  40.132869 -75.333515   \n",
       "99488  40.006974 -75.289080   \n",
       "99489  40.115429 -75.334679   \n",
       "99490  40.186431 -75.192555   \n",
       "99491  40.207055 -75.317952   \n",
       "\n",
       "                                                    desc      zip  \\\n",
       "0      REINDEER CT & DEAD END;  NEW HANOVER; Station ...  19525.0   \n",
       "1      BRIAR PATH & WHITEMARSH LN;  HATFIELD TOWNSHIP...  19446.0   \n",
       "2      HAWS AVE; NORRISTOWN; 2015-12-10 @ 14:39:21-St...  19401.0   \n",
       "3      AIRY ST & SWEDE ST;  NORRISTOWN; Station 308A;...  19401.0   \n",
       "4      CHERRYWOOD CT & DEAD END;  LOWER POTTSGROVE; S...      NaN   \n",
       "5      CANNON AVE & W 9TH ST;  LANSDALE; Station 345;...  19446.0   \n",
       "6      LAUREL AVE & OAKDALE AVE;  HORSHAM; Station 35...  19044.0   \n",
       "7      COLLEGEVILLE RD & LYWISKI RD;  SKIPPACK; Stati...  19426.0   \n",
       "8      MAIN ST & OLD SUMNEYTOWN PIKE;  LOWER SALFORD;...  19438.0   \n",
       "9      BLUEROUTE  & RAMP I476 NB TO CHEMICAL RD; PLYM...  19462.0   \n",
       "10     RT202 PKWY & KNAPP RD; MONTGOMERY; 2015-12-10 ...      NaN   \n",
       "11     BROOK RD & COLWELL LN; PLYMOUTH; 2015-12-10 @ ...  19428.0   \n",
       "12     BYBERRY AVE & S WARMINSTER RD; UPPER MORELAND;...  19040.0   \n",
       "13     OLD YORK RD & VALLEY RD; CHELTENHAM; 2015-12-1...  19027.0   \n",
       "14     SCHUYLKILL EXPY & CROTON RD UNDERPASS; UPPER M...      NaN   \n",
       "15     STUMP RD & WITCHWOOD DR; MONTGOMERY; 2015-12-1...  18936.0   \n",
       "16     SUSQUEHANNA AVE & W MAIN ST;  LANSDALE; Statio...  19446.0   \n",
       "17     CHARLOTTE ST & MILES RD;  NEW HANOVER; Station...  19525.0   \n",
       "18     PENN ST & ARCH ST;  NORRISTOWN; Station 308A; ...  19401.0   \n",
       "19     COUNTY LINE RD & WILLOW DR; HORSHAM; 2015-12-1...  18974.0   \n",
       "20     PENN ST & ARCH ST; NORRISTOWN; 2015-12-10 @ 17...  19401.0   \n",
       "21     CHURCH RD & REDCOAT DR; WHITEMARSH; 2015-12-10...  19031.0   \n",
       "22     LILAC CT & PRIMROSE DR; UPPER GWYNEDD; 2015-12...  19446.0   \n",
       "23     RT422  & PAWLINGS RD OVERPASS; LOWER PROVIDENC...      NaN   \n",
       "24     SUMMIT AVE & RT309 UNDERPASS; UPPER DUBLIN; 20...      NaN   \n",
       "25     SHANNONDELL DR & SHANNONDELL BLVD;  LOWER PROV...  19403.0   \n",
       "26     PENLLYN BLUE BELL PIKE & VILLAGE CIR;  WHITPAI...  19422.0   \n",
       "27     EDENTON PL & DURHAM DR; DELAWARE COUNTY; 2015-...  19085.0   \n",
       "28     SCHUYLKILL EXPY & WEADLEY RD OVERPASS; UPPER M...      NaN   \n",
       "29     COUNTY LINE RD & WILLOW DR; HORSHAM; 2015-12-1...  18974.0   \n",
       "...                                                  ...      ...   \n",
       "99462  UPLAND SQUARE DR & SELL RD;  WEST POTTSGROVE; ...  19464.0   \n",
       "99463  SHOEMAKER RD & ROBINSON ST;  POTTSTOWN; Statio...  19464.0   \n",
       "99464  KAREN LN & BYBERRY RD;  UPPER MORELAND; Statio...  19040.0   \n",
       "99465  AIRY ST & GREEN ST;  NORRISTOWN; Station 308A;...  19401.0   \n",
       "99466  WENTZ RD & SILO CIR;  WHITPAIN; Station 385; 2...  19422.0   \n",
       "99467  WOODS DR & DETWILER RD;  TOWAMENCIN; Station 3...  19446.0   \n",
       "99468  DEKALB PIKE & ALLENDALE RD; UPPER MERION; 2016...  19406.0   \n",
       "99469  MARKLEY ST & JAMES ST; NORRISTOWN; 2016-08-24 ...  19401.0   \n",
       "99470  WALNUT ST & S 5TH AVE;  ROYERSFORD; Station 32...  19468.0   \n",
       "99471  WYNNEWOOD RD & W OLD WYNNEWOOD RD;  LOWER MERI...  19096.0   \n",
       "99472  PINE ST & W ROBERTS ST;  NORRISTOWN; Station 3...  19401.0   \n",
       "99473  BUCK RD & WAVERLY LN;  BRYN ATHYN; Station 355...  19009.0   \n",
       "99474  HUNTINGDON PIKE & FILLMORE ST;  ROCKLEDGE; Sta...  19046.0   \n",
       "99475  SHEAFF LN & WHITEMARSH VALLEY RD; WHITEMARSH; ...  19034.0   \n",
       "99476  PARK DR & N ADAMS ST;  POTTSTOWN; Station 329;...  19464.0   \n",
       "99477  FOX HOUND DR & MARBLE HL;  WHITEMARSH; Station...  19444.0   \n",
       "99478  CHEMICAL RD & GALLAGHER RD; PLYMOUTH; 2016-08-...  19462.0   \n",
       "99479  SUMNEYTOWN PIKE & RR OVERPASS;  UPPER GWYNEDD;...      NaN   \n",
       "99480  SUMNEYTOWN PIKE & RR OVERPASS;  UPPER GWYNEDD;...      NaN   \n",
       "99481  SUMNEYTOWN PIKE & RR OVERPASS;  UPPER GWYNEDD;...      NaN   \n",
       "99482  RT100 SB & E PHILADELPHIA AVE OVERPASS; DOUGLA...      NaN   \n",
       "99483  DEKALB PIKE & KING OF PRUSSIA RD;  UPPER MERIO...  19406.0   \n",
       "99484  SHANNONDELL DR & SHANNONDELL BLVD; LOWER PROVI...  19403.0   \n",
       "99485  EAGLEVILLE RD & REDTAIL RD; LOWER PROVIDENCE; ...  19403.0   \n",
       "99486  WELSH RD & NORRISTOWN RD; HORSHAM; 2016-08-24 ...  19044.0   \n",
       "99487  MARKLEY ST & W LOGAN ST; NORRISTOWN; 2016-08-2...  19401.0   \n",
       "99488  LANCASTER AVE & RITTENHOUSE PL; LOWER MERION; ...  19003.0   \n",
       "99489  CHESTNUT ST & WALNUT ST;  NORRISTOWN; Station ...  19401.0   \n",
       "99490  WELSH RD & WEBSTER LN;  HORSHAM; Station 352; ...  19002.0   \n",
       "99491  MORRIS RD & S BROAD ST; UPPER GWYNEDD; 2016-08...  19446.0   \n",
       "\n",
       "                                title            timeStamp                twp  \\\n",
       "0              EMS: BACK PAINS/INJURY  2015-12-10 17:40:00        NEW HANOVER   \n",
       "1             EMS: DIABETIC EMERGENCY  2015-12-10 17:40:00  HATFIELD TOWNSHIP   \n",
       "2                 Fire: GAS-ODOR/LEAK  2015-12-10 17:40:00         NORRISTOWN   \n",
       "3              EMS: CARDIAC EMERGENCY  2015-12-10 17:40:01         NORRISTOWN   \n",
       "4                      EMS: DIZZINESS  2015-12-10 17:40:01   LOWER POTTSGROVE   \n",
       "5                    EMS: HEAD INJURY  2015-12-10 17:40:01           LANSDALE   \n",
       "6                EMS: NAUSEA/VOMITING  2015-12-10 17:40:01            HORSHAM   \n",
       "7          EMS: RESPIRATORY EMERGENCY  2015-12-10 17:40:01           SKIPPACK   \n",
       "8               EMS: SYNCOPAL EPISODE  2015-12-10 17:40:01      LOWER SALFORD   \n",
       "9         Traffic: VEHICLE ACCIDENT -  2015-12-10 17:40:01           PLYMOUTH   \n",
       "10        Traffic: VEHICLE ACCIDENT -  2015-12-10 17:40:01         MONTGOMERY   \n",
       "11        Traffic: VEHICLE ACCIDENT -  2015-12-10 17:40:02           PLYMOUTH   \n",
       "12        Traffic: VEHICLE ACCIDENT -  2015-12-10 17:40:02     UPPER MORELAND   \n",
       "13        Traffic: VEHICLE ACCIDENT -  2015-12-10 17:40:02         CHELTENHAM   \n",
       "14        Traffic: VEHICLE ACCIDENT -  2015-12-10 17:40:02       UPPER MERION   \n",
       "15        Traffic: VEHICLE ACCIDENT -  2015-12-10 17:40:02         MONTGOMERY   \n",
       "16         EMS: RESPIRATORY EMERGENCY  2015-12-10 17:46:01           LANSDALE   \n",
       "17                     EMS: DIZZINESS  2015-12-10 17:47:01        NEW HANOVER   \n",
       "18              EMS: VEHICLE ACCIDENT  2015-12-10 17:47:01         NORRISTOWN   \n",
       "19        Traffic: DISABLED VEHICLE -  2015-12-10 17:47:02            HORSHAM   \n",
       "20        Traffic: VEHICLE ACCIDENT -  2015-12-10 17:47:02         NORRISTOWN   \n",
       "21        Traffic: DISABLED VEHICLE -  2015-12-10 17:57:02         WHITEMARSH   \n",
       "22               Fire: APPLIANCE FIRE  2015-12-10 18:02:01      UPPER GWYNEDD   \n",
       "23        Traffic: DISABLED VEHICLE -  2015-12-10 18:02:02   LOWER PROVIDENCE   \n",
       "24        Traffic: VEHICLE ACCIDENT -  2015-12-10 18:02:02       UPPER DUBLIN   \n",
       "25              EMS: GENERAL WEAKNESS  2015-12-10 18:06:25   LOWER PROVIDENCE   \n",
       "26                   EMS: HEAD INJURY  2015-12-10 18:06:25           WHITPAIN   \n",
       "27     Fire: CARBON MONOXIDE DETECTOR  2015-12-10 18:06:25    DELAWARE COUNTY   \n",
       "28        Traffic: VEHICLE ACCIDENT -  2015-12-10 18:06:26       UPPER MERION   \n",
       "29        Traffic: DISABLED VEHICLE -  2015-12-10 18:11:01            HORSHAM   \n",
       "...                               ...                  ...                ...   \n",
       "99462  EMS: UNKNOWN MEDICAL EMERGENCY  2016-08-24 09:41:00    WEST POTTSGROVE   \n",
       "99463  EMS: UNKNOWN MEDICAL EMERGENCY  2016-08-24 09:42:00          POTTSTOWN   \n",
       "99464                EMS: FALL VICTIM  2016-08-24 09:51:06     UPPER MORELAND   \n",
       "99465      EMS: RESPIRATORY EMERGENCY  2016-08-24 09:56:13         NORRISTOWN   \n",
       "99466            EMS: NAUSEA/VOMITING  2016-08-24 10:01:00           WHITPAIN   \n",
       "99467      EMS: ALTERED MENTAL STATUS  2016-08-24 10:12:01         TOWAMENCIN   \n",
       "99468                Fire: FIRE ALARM  2016-08-24 10:12:01       UPPER MERION   \n",
       "99469                Fire: FIRE ALARM  2016-08-24 10:12:01         NORRISTOWN   \n",
       "99470      EMS: ALTERED MENTAL STATUS  2016-08-24 10:17:01         ROYERSFORD   \n",
       "99471      EMS: RESPIRATORY EMERGENCY  2016-08-24 10:17:01       LOWER MERION   \n",
       "99472          EMS: CARDIAC EMERGENCY  2016-08-24 10:22:00         NORRISTOWN   \n",
       "99473           EMS: GENERAL WEAKNESS  2016-08-24 10:27:01         BRYN ATHYN   \n",
       "99474                   EMS: SEIZURES  2016-08-24 10:27:01          ROCKLEDGE   \n",
       "99475     Traffic: VEHICLE ACCIDENT -  2016-08-24 10:32:01         WHITEMARSH   \n",
       "99476      EMS: RESPIRATORY EMERGENCY  2016-08-24 10:47:00          POTTSTOWN   \n",
       "99477            EMS: SUBJECT IN PAIN  2016-08-24 10:47:00         WHITEMARSH   \n",
       "99478     Traffic: VEHICLE ACCIDENT -  2016-08-24 10:47:02           PLYMOUTH   \n",
       "99479          EMS: CARDIAC EMERGENCY  2016-08-24 10:52:01      UPPER GWYNEDD   \n",
       "99480         EMS: DIABETIC EMERGENCY  2016-08-24 10:52:01      UPPER GWYNEDD   \n",
       "99481                  EMS: DIZZINESS  2016-08-24 10:52:01      UPPER GWYNEDD   \n",
       "99482     Traffic: DISABLED VEHICLE -  2016-08-24 10:52:03           DOUGLASS   \n",
       "99483          EMS: BACK PAINS/INJURY  2016-08-24 10:57:00       UPPER MERION   \n",
       "99484                Fire: FIRE ALARM  2016-08-24 10:57:00   LOWER PROVIDENCE   \n",
       "99485     Traffic: DISABLED VEHICLE -  2016-08-24 10:57:01   LOWER PROVIDENCE   \n",
       "99486     Traffic: VEHICLE ACCIDENT -  2016-08-24 11:02:02            HORSHAM   \n",
       "99487     Traffic: VEHICLE ACCIDENT -  2016-08-24 11:06:00         NORRISTOWN   \n",
       "99488     Traffic: VEHICLE ACCIDENT -  2016-08-24 11:07:02       LOWER MERION   \n",
       "99489                EMS: FALL VICTIM  2016-08-24 11:12:00         NORRISTOWN   \n",
       "99490            EMS: NAUSEA/VOMITING  2016-08-24 11:17:01            HORSHAM   \n",
       "99491     Traffic: VEHICLE ACCIDENT -  2016-08-24 11:17:02      UPPER GWYNEDD   \n",
       "\n",
       "                                           addr  e  \n",
       "0                        REINDEER CT & DEAD END  1  \n",
       "1                    BRIAR PATH & WHITEMARSH LN  1  \n",
       "2                                      HAWS AVE  1  \n",
       "3                            AIRY ST & SWEDE ST  1  \n",
       "4                      CHERRYWOOD CT & DEAD END  1  \n",
       "5                         CANNON AVE & W 9TH ST  1  \n",
       "6                      LAUREL AVE & OAKDALE AVE  1  \n",
       "7                  COLLEGEVILLE RD & LYWISKI RD  1  \n",
       "8                 MAIN ST & OLD SUMNEYTOWN PIKE  1  \n",
       "9      BLUEROUTE  & RAMP I476 NB TO CHEMICAL RD  1  \n",
       "10                        RT202 PKWY & KNAPP RD  1  \n",
       "11                        BROOK RD & COLWELL LN  1  \n",
       "12                BYBERRY AVE & S WARMINSTER RD  1  \n",
       "13                      OLD YORK RD & VALLEY RD  1  \n",
       "14        SCHUYLKILL EXPY & CROTON RD UNDERPASS  1  \n",
       "15                      STUMP RD & WITCHWOOD DR  1  \n",
       "16                  SUSQUEHANNA AVE & W MAIN ST  1  \n",
       "17                      CHARLOTTE ST & MILES RD  1  \n",
       "18                            PENN ST & ARCH ST  1  \n",
       "19                   COUNTY LINE RD & WILLOW DR  1  \n",
       "20                            PENN ST & ARCH ST  1  \n",
       "21                       CHURCH RD & REDCOAT DR  1  \n",
       "22                       LILAC CT & PRIMROSE DR  1  \n",
       "23                RT422  & PAWLINGS RD OVERPASS  1  \n",
       "24                 SUMMIT AVE & RT309 UNDERPASS  1  \n",
       "25            SHANNONDELL DR & SHANNONDELL BLVD  1  \n",
       "26         PENLLYN BLUE BELL PIKE & VILLAGE CIR  1  \n",
       "27                       EDENTON PL & DURHAM DR  1  \n",
       "28        SCHUYLKILL EXPY & WEADLEY RD OVERPASS  1  \n",
       "29                   COUNTY LINE RD & WILLOW DR  1  \n",
       "...                                         ... ..  \n",
       "99462                UPLAND SQUARE DR & SELL RD  1  \n",
       "99463                SHOEMAKER RD & ROBINSON ST  1  \n",
       "99464                     KAREN LN & BYBERRY RD  1  \n",
       "99465                        AIRY ST & GREEN ST  1  \n",
       "99466                       WENTZ RD & SILO CIR  1  \n",
       "99467                    WOODS DR & DETWILER RD  1  \n",
       "99468                DEKALB PIKE & ALLENDALE RD  1  \n",
       "99469                     MARKLEY ST & JAMES ST  1  \n",
       "99470                     WALNUT ST & S 5TH AVE  1  \n",
       "99471         WYNNEWOOD RD & W OLD WYNNEWOOD RD  1  \n",
       "99472                    PINE ST & W ROBERTS ST  1  \n",
       "99473                      BUCK RD & WAVERLY LN  1  \n",
       "99474             HUNTINGDON PIKE & FILLMORE ST  1  \n",
       "99475          SHEAFF LN & WHITEMARSH VALLEY RD  1  \n",
       "99476                      PARK DR & N ADAMS ST  1  \n",
       "99477                  FOX HOUND DR & MARBLE HL  1  \n",
       "99478                CHEMICAL RD & GALLAGHER RD  1  \n",
       "99479             SUMNEYTOWN PIKE & RR OVERPASS  1  \n",
       "99480             SUMNEYTOWN PIKE & RR OVERPASS  1  \n",
       "99481             SUMNEYTOWN PIKE & RR OVERPASS  1  \n",
       "99482    RT100 SB & E PHILADELPHIA AVE OVERPASS  1  \n",
       "99483          DEKALB PIKE & KING OF PRUSSIA RD  1  \n",
       "99484         SHANNONDELL DR & SHANNONDELL BLVD  1  \n",
       "99485                EAGLEVILLE RD & REDTAIL RD  1  \n",
       "99486                  WELSH RD & NORRISTOWN RD  1  \n",
       "99487                   MARKLEY ST & W LOGAN ST  1  \n",
       "99488            LANCASTER AVE & RITTENHOUSE PL  1  \n",
       "99489                   CHESTNUT ST & WALNUT ST  1  \n",
       "99490                     WELSH RD & WEBSTER LN  1  \n",
       "99491                    MORRIS RD & S BROAD ST  1  \n",
       "\n",
       "[99492 rows x 9 columns]"
      ]
     },
     "execution_count": 4,
     "metadata": {},
     "output_type": "execute_result"
    }
   ],
   "source": [
    "df\n"
   ]
  },
  {
   "cell_type": "code",
   "execution_count": 5,
   "metadata": {
    "collapsed": false
   },
   "outputs": [
    {
     "data": {
      "text/plain": [
       "19401.0    6979\n",
       "19464.0    6643\n",
       "19403.0    4854\n",
       "19446.0    4748\n",
       "19406.0    3174\n",
       "Name: zip, dtype: int64"
      ]
     },
     "execution_count": 5,
     "metadata": {},
     "output_type": "execute_result"
    }
   ],
   "source": [
    "df['zip'].value_counts().head(5)"
   ]
  },
  {
   "cell_type": "code",
   "execution_count": 6,
   "metadata": {
    "collapsed": false
   },
   "outputs": [
    {
     "data": {
      "text/plain": [
       "LOWER MERION    8443\n",
       "ABINGTON        5977\n",
       "NORRISTOWN      5890\n",
       "UPPER MERION    5227\n",
       "CHELTENHAM      4575\n",
       "Name: twp, dtype: int64"
      ]
     },
     "execution_count": 6,
     "metadata": {},
     "output_type": "execute_result"
    }
   ],
   "source": [
    "df['twp'].value_counts().head(5)"
   ]
  },
  {
   "cell_type": "code",
   "execution_count": 86,
   "metadata": {
    "collapsed": false
   },
   "outputs": [
    {
     "data": {
      "text/plain": [
       "<bound method IndexOpsMixin.nunique of 0                EMS: BACK PAINS/INJURY\n",
       "1               EMS: DIABETIC EMERGENCY\n",
       "2                   Fire: GAS-ODOR/LEAK\n",
       "3                EMS: CARDIAC EMERGENCY\n",
       "4                        EMS: DIZZINESS\n",
       "5                      EMS: HEAD INJURY\n",
       "6                  EMS: NAUSEA/VOMITING\n",
       "7            EMS: RESPIRATORY EMERGENCY\n",
       "8                 EMS: SYNCOPAL EPISODE\n",
       "9           Traffic: VEHICLE ACCIDENT -\n",
       "10          Traffic: VEHICLE ACCIDENT -\n",
       "11          Traffic: VEHICLE ACCIDENT -\n",
       "12          Traffic: VEHICLE ACCIDENT -\n",
       "13          Traffic: VEHICLE ACCIDENT -\n",
       "14          Traffic: VEHICLE ACCIDENT -\n",
       "15          Traffic: VEHICLE ACCIDENT -\n",
       "16           EMS: RESPIRATORY EMERGENCY\n",
       "17                       EMS: DIZZINESS\n",
       "18                EMS: VEHICLE ACCIDENT\n",
       "19          Traffic: DISABLED VEHICLE -\n",
       "20          Traffic: VEHICLE ACCIDENT -\n",
       "21          Traffic: DISABLED VEHICLE -\n",
       "22                 Fire: APPLIANCE FIRE\n",
       "23          Traffic: DISABLED VEHICLE -\n",
       "24          Traffic: VEHICLE ACCIDENT -\n",
       "25                EMS: GENERAL WEAKNESS\n",
       "26                     EMS: HEAD INJURY\n",
       "27       Fire: CARBON MONOXIDE DETECTOR\n",
       "28          Traffic: VEHICLE ACCIDENT -\n",
       "29          Traffic: DISABLED VEHICLE -\n",
       "                      ...              \n",
       "99462    EMS: UNKNOWN MEDICAL EMERGENCY\n",
       "99463    EMS: UNKNOWN MEDICAL EMERGENCY\n",
       "99464                  EMS: FALL VICTIM\n",
       "99465        EMS: RESPIRATORY EMERGENCY\n",
       "99466              EMS: NAUSEA/VOMITING\n",
       "99467        EMS: ALTERED MENTAL STATUS\n",
       "99468                  Fire: FIRE ALARM\n",
       "99469                  Fire: FIRE ALARM\n",
       "99470        EMS: ALTERED MENTAL STATUS\n",
       "99471        EMS: RESPIRATORY EMERGENCY\n",
       "99472            EMS: CARDIAC EMERGENCY\n",
       "99473             EMS: GENERAL WEAKNESS\n",
       "99474                     EMS: SEIZURES\n",
       "99475       Traffic: VEHICLE ACCIDENT -\n",
       "99476        EMS: RESPIRATORY EMERGENCY\n",
       "99477              EMS: SUBJECT IN PAIN\n",
       "99478       Traffic: VEHICLE ACCIDENT -\n",
       "99479            EMS: CARDIAC EMERGENCY\n",
       "99480           EMS: DIABETIC EMERGENCY\n",
       "99481                    EMS: DIZZINESS\n",
       "99482       Traffic: DISABLED VEHICLE -\n",
       "99483            EMS: BACK PAINS/INJURY\n",
       "99484                  Fire: FIRE ALARM\n",
       "99485       Traffic: DISABLED VEHICLE -\n",
       "99486       Traffic: VEHICLE ACCIDENT -\n",
       "99487       Traffic: VEHICLE ACCIDENT -\n",
       "99488       Traffic: VEHICLE ACCIDENT -\n",
       "99489                  EMS: FALL VICTIM\n",
       "99490              EMS: NAUSEA/VOMITING\n",
       "99491       Traffic: VEHICLE ACCIDENT -\n",
       "Name: title, dtype: object>"
      ]
     },
     "execution_count": 86,
     "metadata": {},
     "output_type": "execute_result"
    }
   ],
   "source": [
    "df['title'].nunique"
   ]
  },
  {
   "cell_type": "code",
   "execution_count": 8,
   "metadata": {
    "collapsed": true
   },
   "outputs": [],
   "source": [
    "df['Reason']=df['title'].apply(lambda title:title.split(':')[0])"
   ]
  },
  {
   "cell_type": "code",
   "execution_count": 9,
   "metadata": {
    "collapsed": false
   },
   "outputs": [
    {
     "data": {
      "text/plain": [
       "EMS        48877\n",
       "Traffic    35695\n",
       "Fire       14920\n",
       "Name: Reason, dtype: int64"
      ]
     },
     "execution_count": 9,
     "metadata": {},
     "output_type": "execute_result"
    }
   ],
   "source": [
    "df['Reason'].value_counts()"
   ]
  },
  {
   "cell_type": "code",
   "execution_count": 87,
   "metadata": {
    "collapsed": false
   },
   "outputs": [
    {
     "data": {
      "text/plain": [
       "<matplotlib.axes._subplots.AxesSubplot at 0x19682c0c828>"
      ]
     },
     "execution_count": 87,
     "metadata": {},
     "output_type": "execute_result"
    },
    {
     "data": {
      "image/png": "[encoded data removed]",
      "text/plain": [
       "<matplotlib.figure.Figure at 0x19681b3b550>"
      ]
     },
     "metadata": {},
     "output_type": "display_data"
    }
   ],
   "source": [
    "import seaborn as sns\n",
    "sns.countplot(x='Reason',data=df,palette='bright')"
   ]
  },
  {
   "cell_type": "code",
   "execution_count": 55,
   "metadata": {
    "collapsed": false
   },
   "outputs": [
    {
     "data": {
      "text/plain": [
       "Timestamp('2015-12-10 17:40:00')"
      ]
     },
     "execution_count": 55,
     "metadata": {},
     "output_type": "execute_result"
    }
   ],
   "source": [
    "df['timeStamp'].iloc[0]"
   ]
  },
  {
   "cell_type": "code",
   "execution_count": 88,
   "metadata": {
    "collapsed": false
   },
   "outputs": [
    {
     "name": "stdout",
     "output_type": "stream",
     "text": [
      "<class 'pandas.core.frame.DataFrame'>\n",
      "RangeIndex: 99492 entries, 0 to 99491\n",
      "Data columns (total 14 columns):\n",
      "lat            99492 non-null float64\n",
      "lng            99492 non-null float64\n",
      "desc           99492 non-null object\n",
      "zip            99492 non-null float64\n",
      "title          99492 non-null object\n",
      "timeStamp      99492 non-null datetime64[ns]\n",
      "twp            99492 non-null object\n",
      "addr           99492 non-null object\n",
      "e              99492 non-null int64\n",
      "Reason         99492 non-null object\n",
      "Hour           99492 non-null int64\n",
      "Month          99492 non-null int64\n",
      "Day of Week    99492 non-null object\n",
      "Date           99492 non-null object\n",
      "dtypes: datetime64[ns](1), float64(3), int64(3), object(7)\n",
      "memory usage: 10.6+ MB\n"
     ]
    }
   ],
   "source": [
    "df['timeStamp']=pd.to_datetime(df['timeStamp'])\n",
    "df.info()"
   ]
  },
  {
   "cell_type": "code",
   "execution_count": 92,
   "metadata": {
    "collapsed": false
   },
   "outputs": [
    {
     "name": "stdout",
     "output_type": "stream",
     "text": [
      "2015-12-10 17:40:00\n",
      "12\n"
     ]
    }
   ],
   "source": [
    "time = df['timeStamp'].iloc[0]\n",
    "print(time)\n",
    "print(time.month)\n"
   ]
  },
  {
   "cell_type": "code",
   "execution_count": 94,
   "metadata": {
    "collapsed": false
   },
   "outputs": [],
   "source": [
    "time=df['timeStamp'].iloc[0]\n",
    "df['Hour']=df['timeStamp'].apply(lambda time:time.hour)\n",
    "df['Month']=df['timeStamp'].apply(lambda time:time.month)\n",
    "df['Day of Week']=df['timeStamp'].apply(lambda time:time.dayofweek)\n",
    "dmap={0:'Mon',1:'Tue',2:'Wed',3:'Thu',4:'Fri',5:'Sat',6:'Sun'}"
   ]
  },
  {
   "cell_type": "code",
   "execution_count": 59,
   "metadata": {
    "collapsed": true
   },
   "outputs": [],
   "source": [
    "df['Day of Week']=df['Day of Week'].map(dmap)"
   ]
  },
  {
   "cell_type": "code",
   "execution_count": 60,
   "metadata": {
    "collapsed": false,
    "scrolled": true
   },
   "outputs": [
    {
     "data": {
      "text/plain": [
       "<matplotlib.axes._subplots.AxesSubplot at 0x196818c3630>"
      ]
     },
     "execution_count": 60,
     "metadata": {},
     "output_type": "execute_result"
    },
    {
     "data": {
      "image/png": "[encoded data removed]",
      "text/plain": [
       "<matplotlib.figure.Figure at 0x196819f15f8>"
      ]
     },
     "metadata": {},
     "output_type": "display_data"
    }
   ],
   "source": [
    "sns.countplot(x='Day of Week',data=df,hue='Reason',palette='viridis')"
   ]
  },
  {
   "cell_type": "code",
   "execution_count": 61,
   "metadata": {
    "collapsed": false
   },
   "outputs": [
    {
     "data": {
      "text/plain": [
       "<matplotlib.axes._subplots.AxesSubplot at 0x19681693128>"
      ]
     },
     "execution_count": 61,
     "metadata": {},
     "output_type": "execute_result"
    },
    {
     "data": {
      "image/png": "[encoded data removed]",
      "text/plain": [
       "<matplotlib.figure.Figure at 0x19681a5f3c8>"
      ]
     },
     "metadata": {},
     "output_type": "display_data"
    }
   ],
   "source": [
    "sns.countplot(x='Month',data=df,hue='Reason',palette='viridis')"
   ]
  },
  {
   "cell_type": "code",
   "execution_count": 95,
   "metadata": {
    "collapsed": false
   },
   "outputs": [
    {
     "data": {
      "text/html": [
       "<div>\n",
       "<table border=\"1\" class=\"dataframe\">\n",
       "  <thead>\n",
       "    <tr style=\"text-align: right;\">\n",
       "      <th></th>\n",
       "      <th>lat</th>\n",
       "      <th>lng</th>\n",
       "      <th>desc</th>\n",
       "      <th>zip</th>\n",
       "      <th>title</th>\n",
       "      <th>timeStamp</th>\n",
       "      <th>twp</th>\n",
       "      <th>addr</th>\n",
       "      <th>e</th>\n",
       "      <th>Reason</th>\n",
       "      <th>Hour</th>\n",
       "      <th>Day of Week</th>\n",
       "      <th>Date</th>\n",
       "    </tr>\n",
       "    <tr>\n",
       "      <th>Month</th>\n",
       "      <th></th>\n",
       "      <th></th>\n",
       "      <th></th>\n",
       "      <th></th>\n",
       "      <th></th>\n",
       "      <th></th>\n",
       "      <th></th>\n",
       "      <th></th>\n",
       "      <th></th>\n",
       "      <th></th>\n",
       "      <th></th>\n",
       "      <th></th>\n",
       "      <th></th>\n",
       "    </tr>\n",
       "  </thead>\n",
       "  <tbody>\n",
       "    <tr>\n",
       "      <th>1</th>\n",
       "      <td>13205</td>\n",
       "      <td>13205</td>\n",
       "      <td>13205</td>\n",
       "      <td>13205</td>\n",
       "      <td>13205</td>\n",
       "      <td>13205</td>\n",
       "      <td>13205</td>\n",
       "      <td>13205</td>\n",
       "      <td>13205</td>\n",
       "      <td>13205</td>\n",
       "      <td>13205</td>\n",
       "      <td>13205</td>\n",
       "      <td>13205</td>\n",
       "    </tr>\n",
       "    <tr>\n",
       "      <th>2</th>\n",
       "      <td>11467</td>\n",
       "      <td>11467</td>\n",
       "      <td>11467</td>\n",
       "      <td>11467</td>\n",
       "      <td>11467</td>\n",
       "      <td>11467</td>\n",
       "      <td>11467</td>\n",
       "      <td>11467</td>\n",
       "      <td>11467</td>\n",
       "      <td>11467</td>\n",
       "      <td>11467</td>\n",
       "      <td>11467</td>\n",
       "      <td>11467</td>\n",
       "    </tr>\n",
       "    <tr>\n",
       "      <th>3</th>\n",
       "      <td>11101</td>\n",
       "      <td>11101</td>\n",
       "      <td>11101</td>\n",
       "      <td>11101</td>\n",
       "      <td>11101</td>\n",
       "      <td>11101</td>\n",
       "      <td>11101</td>\n",
       "      <td>11101</td>\n",
       "      <td>11101</td>\n",
       "      <td>11101</td>\n",
       "      <td>11101</td>\n",
       "      <td>11101</td>\n",
       "      <td>11101</td>\n",
       "    </tr>\n",
       "    <tr>\n",
       "      <th>4</th>\n",
       "      <td>11326</td>\n",
       "      <td>11326</td>\n",
       "      <td>11326</td>\n",
       "      <td>11326</td>\n",
       "      <td>11326</td>\n",
       "      <td>11326</td>\n",
       "      <td>11326</td>\n",
       "      <td>11326</td>\n",
       "      <td>11326</td>\n",
       "      <td>11326</td>\n",
       "      <td>11326</td>\n",
       "      <td>11326</td>\n",
       "      <td>11326</td>\n",
       "    </tr>\n",
       "    <tr>\n",
       "      <th>5</th>\n",
       "      <td>11423</td>\n",
       "      <td>11423</td>\n",
       "      <td>11423</td>\n",
       "      <td>11423</td>\n",
       "      <td>11423</td>\n",
       "      <td>11423</td>\n",
       "      <td>11423</td>\n",
       "      <td>11423</td>\n",
       "      <td>11423</td>\n",
       "      <td>11423</td>\n",
       "      <td>11423</td>\n",
       "      <td>11423</td>\n",
       "      <td>11423</td>\n",
       "    </tr>\n",
       "    <tr>\n",
       "      <th>6</th>\n",
       "      <td>11786</td>\n",
       "      <td>11786</td>\n",
       "      <td>11786</td>\n",
       "      <td>11786</td>\n",
       "      <td>11786</td>\n",
       "      <td>11786</td>\n",
       "      <td>11786</td>\n",
       "      <td>11786</td>\n",
       "      <td>11786</td>\n",
       "      <td>11786</td>\n",
       "      <td>11786</td>\n",
       "      <td>11786</td>\n",
       "      <td>11786</td>\n",
       "    </tr>\n",
       "    <tr>\n",
       "      <th>7</th>\n",
       "      <td>12137</td>\n",
       "      <td>12137</td>\n",
       "      <td>12137</td>\n",
       "      <td>12137</td>\n",
       "      <td>12137</td>\n",
       "      <td>12137</td>\n",
       "      <td>12137</td>\n",
       "      <td>12137</td>\n",
       "      <td>12137</td>\n",
       "      <td>12137</td>\n",
       "      <td>12137</td>\n",
       "      <td>12137</td>\n",
       "      <td>12137</td>\n",
       "    </tr>\n",
       "    <tr>\n",
       "      <th>8</th>\n",
       "      <td>9078</td>\n",
       "      <td>9078</td>\n",
       "      <td>9078</td>\n",
       "      <td>9078</td>\n",
       "      <td>9078</td>\n",
       "      <td>9078</td>\n",
       "      <td>9078</td>\n",
       "      <td>9078</td>\n",
       "      <td>9078</td>\n",
       "      <td>9078</td>\n",
       "      <td>9078</td>\n",
       "      <td>9078</td>\n",
       "      <td>9078</td>\n",
       "    </tr>\n",
       "    <tr>\n",
       "      <th>12</th>\n",
       "      <td>7969</td>\n",
       "      <td>7969</td>\n",
       "      <td>7969</td>\n",
       "      <td>7969</td>\n",
       "      <td>7969</td>\n",
       "      <td>7969</td>\n",
       "      <td>7969</td>\n",
       "      <td>7969</td>\n",
       "      <td>7969</td>\n",
       "      <td>7969</td>\n",
       "      <td>7969</td>\n",
       "      <td>7969</td>\n",
       "      <td>7969</td>\n",
       "    </tr>\n",
       "  </tbody>\n",
       "</table>\n",
       "</div>"
      ],
      "text/plain": [
       "         lat    lng   desc    zip  title  timeStamp    twp   addr      e  \\\n",
       "Month                                                                      \n",
       "1      13205  13205  13205  13205  13205      13205  13205  13205  13205   \n",
       "2      11467  11467  11467  11467  11467      11467  11467  11467  11467   \n",
       "3      11101  11101  11101  11101  11101      11101  11101  11101  11101   \n",
       "4      11326  11326  11326  11326  11326      11326  11326  11326  11326   \n",
       "5      11423  11423  11423  11423  11423      11423  11423  11423  11423   \n",
       "6      11786  11786  11786  11786  11786      11786  11786  11786  11786   \n",
       "7      12137  12137  12137  12137  12137      12137  12137  12137  12137   \n",
       "8       9078   9078   9078   9078   9078       9078   9078   9078   9078   \n",
       "12      7969   7969   7969   7969   7969       7969   7969   7969   7969   \n",
       "\n",
       "       Reason   Hour  Day of Week   Date  \n",
       "Month                                     \n",
       "1       13205  13205        13205  13205  \n",
       "2       11467  11467        11467  11467  \n",
       "3       11101  11101        11101  11101  \n",
       "4       11326  11326        11326  11326  \n",
       "5       11423  11423        11423  11423  \n",
       "6       11786  11786        11786  11786  \n",
       "7       12137  12137        12137  12137  \n",
       "8        9078   9078         9078   9078  \n",
       "12       7969   7969         7969   7969  "
      ]
     },
     "execution_count": 95,
     "metadata": {},
     "output_type": "execute_result"
    }
   ],
   "source": [
    "byMonth=df.groupby('Month').count()\n",
    "byMonth"
   ]
  },
  {
   "cell_type": "code",
   "execution_count": 63,
   "metadata": {
    "collapsed": false
   },
   "outputs": [
    {
     "data": {
      "text/plain": [
       "<matplotlib.axes._subplots.AxesSubplot at 0x19681ad3d68>"
      ]
     },
     "execution_count": 63,
     "metadata": {},
     "output_type": "execute_result"
    },
    {
     "data": {
      "image/png": "[encoded data removed]",
      "text/plain": [
       "<matplotlib.figure.Figure at 0x19681889d30>"
      ]
     },
     "metadata": {},
     "output_type": "display_data"
    }
   ],
   "source": [
    "byMonth['twp'].plot()"
   ]
  },
  {
   "cell_type": "code",
   "execution_count": 64,
   "metadata": {
    "collapsed": false
   },
   "outputs": [
    {
     "data": {
      "text/plain": [
       "<seaborn.axisgrid.FacetGrid at 0x19681b59a20>"
      ]
     },
     "execution_count": 64,
     "metadata": {},
     "output_type": "execute_result"
    },
    {
     "data": {
      "image/png": "[encoded data removed]",
      "text/plain": [
       "<matplotlib.figure.Figure at 0x19681b59dd8>"
      ]
     },
     "metadata": {},
     "output_type": "display_data"
    }
   ],
   "source": [
    "sns.lmplot(x='Month',y='twp',data=byMonth.reset_index())"
   ]
  },
  {
   "cell_type": "code",
   "execution_count": 101,
   "metadata": {
    "collapsed": false
   },
   "outputs": [
    {
     "name": "stdout",
     "output_type": "stream",
     "text": [
      "            lat  lng  desc  zip  title  timeStamp  twp  addr    e  Reason  \\\n",
      "Date                                                                        \n",
      "2015-12-10  115  115   115  115    115        115  115   115  115     115   \n",
      "2015-12-11  396  396   396  396    396        396  396   396  396     396   \n",
      "2015-12-12  403  403   403  403    403        403  403   403  403     403   \n",
      "2015-12-13  319  319   319  319    319        319  319   319  319     319   \n",
      "2015-12-14  447  447   447  447    447        447  447   447  447     447   \n",
      "2015-12-15  421  421   421  421    421        421  421   421  421     421   \n",
      "2015-12-16  377  377   377  377    377        377  377   377  377     377   \n",
      "2015-12-17  388  388   388  388    388        388  388   388  388     388   \n",
      "2015-12-18  346  346   346  346    346        346  346   346  346     346   \n",
      "2015-12-19  279  279   279  279    279        279  279   279  279     279   \n",
      "2015-12-20  271  271   271  271    271        271  271   271  271     271   \n",
      "2015-12-21  430  430   430  430    430        430  430   430  430     430   \n",
      "2015-12-22  448  448   448  448    448        448  448   448  448     448   \n",
      "2015-12-23  524  524   524  524    524        524  524   524  524     524   \n",
      "2015-12-24  445  445   445  445    445        445  445   445  445     445   \n",
      "2015-12-25  323  323   323  323    323        323  323   323  323     323   \n",
      "2015-12-26  296  296   296  296    296        296  296   296  296     296   \n",
      "2015-12-27  317  317   317  317    317        317  317   317  317     317   \n",
      "2015-12-28  380  380   380  380    380        380  380   380  380     380   \n",
      "2015-12-29  365  365   365  365    365        365  365   365  365     365   \n",
      "2015-12-30  361  361   361  361    361        361  361   361  361     361   \n",
      "2015-12-31  318  318   318  318    318        318  318   318  318     318   \n",
      "2016-01-01  263  263   263  263    263        263  263   263  263     263   \n",
      "2016-01-02  335  335   335  335    335        335  335   335  335     335   \n",
      "2016-01-03  324  324   324  324    324        324  324   324  324     324   \n",
      "2016-01-04  402  402   402  402    402        402  402   402  402     402   \n",
      "2016-01-05  448  448   448  448    448        448  448   448  448     448   \n",
      "2016-01-06  434  434   434  434    434        434  434   434  434     434   \n",
      "2016-01-07  385  385   385  385    385        385  385   385  385     385   \n",
      "2016-01-08  359  359   359  359    359        359  359   359  359     359   \n",
      "...         ...  ...   ...  ...    ...        ...  ...   ...  ...     ...   \n",
      "2016-07-26  446  446   446  446    446        446  446   446  446     446   \n",
      "2016-07-27  421  421   421  421    421        421  421   421  421     421   \n",
      "2016-07-28  443  443   443  443    443        443  443   443  443     443   \n",
      "2016-07-29  431  431   431  431    431        431  431   431  431     431   \n",
      "2016-07-30  353  353   353  353    353        353  353   353  353     353   \n",
      "2016-07-31  381  381   381  381    381        381  381   381  381     381   \n",
      "2016-08-01  384  384   384  384    384        384  384   384  384     384   \n",
      "2016-08-02  404  404   404  404    404        404  404   404  404     404   \n",
      "2016-08-03  403  403   403  403    403        403  403   403  403     403   \n",
      "2016-08-04  422  422   422  422    422        422  422   422  422     422   \n",
      "2016-08-05  422  422   422  422    422        422  422   422  422     422   \n",
      "2016-08-06  378  378   378  378    378        378  378   378  378     378   \n",
      "2016-08-07  332  332   332  332    332        332  332   332  332     332   \n",
      "2016-08-08  378  378   378  378    378        378  378   378  378     378   \n",
      "2016-08-09  350  350   350  350    350        350  350   350  350     350   \n",
      "2016-08-10  345  345   345  345    345        345  345   345  345     345   \n",
      "2016-08-11  449  449   449  449    449        449  449   449  449     449   \n",
      "2016-08-12  441  441   441  441    441        441  441   441  441     441   \n",
      "2016-08-13  393  393   393  393    393        393  393   393  393     393   \n",
      "2016-08-14  332  332   332  332    332        332  332   332  332     332   \n",
      "2016-08-15  360  360   360  360    360        360  360   360  360     360   \n",
      "2016-08-16  419  419   419  419    419        419  419   419  419     419   \n",
      "2016-08-17  415  415   415  415    415        415  415   415  415     415   \n",
      "2016-08-18  359  359   359  359    359        359  359   359  359     359   \n",
      "2016-08-19  447  447   447  447    447        447  447   447  447     447   \n",
      "2016-08-20  328  328   328  328    328        328  328   328  328     328   \n",
      "2016-08-21  357  357   357  357    357        357  357   357  357     357   \n",
      "2016-08-22  389  389   389  389    389        389  389   389  389     389   \n",
      "2016-08-23  439  439   439  439    439        439  439   439  439     439   \n",
      "2016-08-24  132  132   132  132    132        132  132   132  132     132   \n",
      "\n",
      "            Hour  Month  Day of Week  \n",
      "Date                                  \n",
      "2015-12-10   115    115          115  \n",
      "2015-12-11   396    396          396  \n",
      "2015-12-12   403    403          403  \n",
      "2015-12-13   319    319          319  \n",
      "2015-12-14   447    447          447  \n",
      "2015-12-15   421    421          421  \n",
      "2015-12-16   377    377          377  \n",
      "2015-12-17   388    388          388  \n",
      "2015-12-18   346    346          346  \n",
      "2015-12-19   279    279          279  \n",
      "2015-12-20   271    271          271  \n",
      "2015-12-21   430    430          430  \n",
      "2015-12-22   448    448          448  \n",
      "2015-12-23   524    524          524  \n",
      "2015-12-24   445    445          445  \n",
      "2015-12-25   323    323          323  \n",
      "2015-12-26   296    296          296  \n",
      "2015-12-27   317    317          317  \n",
      "2015-12-28   380    380          380  \n",
      "2015-12-29   365    365          365  \n",
      "2015-12-30   361    361          361  \n",
      "2015-12-31   318    318          318  \n",
      "2016-01-01   263    263          263  \n",
      "2016-01-02   335    335          335  \n",
      "2016-01-03   324    324          324  \n",
      "2016-01-04   402    402          402  \n",
      "2016-01-05   448    448          448  \n",
      "2016-01-06   434    434          434  \n",
      "2016-01-07   385    385          385  \n",
      "2016-01-08   359    359          359  \n",
      "...          ...    ...          ...  \n",
      "2016-07-26   446    446          446  \n",
      "2016-07-27   421    421          421  \n",
      "2016-07-28   443    443          443  \n",
      "2016-07-29   431    431          431  \n",
      "2016-07-30   353    353          353  \n",
      "2016-07-31   381    381          381  \n",
      "2016-08-01   384    384          384  \n",
      "2016-08-02   404    404          404  \n",
      "2016-08-03   403    403          403  \n",
      "2016-08-04   422    422          422  \n",
      "2016-08-05   422    422          422  \n",
      "2016-08-06   378    378          378  \n",
      "2016-08-07   332    332          332  \n",
      "2016-08-08   378    378          378  \n",
      "2016-08-09   350    350          350  \n",
      "2016-08-10   345    345          345  \n",
      "2016-08-11   449    449          449  \n",
      "2016-08-12   441    441          441  \n",
      "2016-08-13   393    393          393  \n",
      "2016-08-14   332    332          332  \n",
      "2016-08-15   360    360          360  \n",
      "2016-08-16   419    419          419  \n",
      "2016-08-17   415    415          415  \n",
      "2016-08-18   359    359          359  \n",
      "2016-08-19   447    447          447  \n",
      "2016-08-20   328    328          328  \n",
      "2016-08-21   357    357          357  \n",
      "2016-08-22   389    389          389  \n",
      "2016-08-23   439    439          439  \n",
      "2016-08-24   132    132          132  \n",
      "\n",
      "[259 rows x 13 columns]\n"
     ]
    },
    {
     "data": {
      "image/png": "[encoded data removed]",
      "text/plain": [
       "<matplotlib.figure.Figure at 0x196858cb518>"
      ]
     },
     "metadata": {},
     "output_type": "display_data"
    }
   ],
   "source": [
    "df['Date']=df['timeStamp'].apply(lambda p:p.date())\n",
    "df1=df.groupby('Date').count()\n",
    "print(df1)\n"
   ]
  },
  {
   "cell_type": "code",
   "execution_count": 102,
   "metadata": {
    "collapsed": false
   },
   "outputs": [
    {
     "data": {
      "image/png": "[encoded data removed]",
      "text/plain": [
       "<matplotlib.figure.Figure at 0x196858d1240>"
      ]
     },
     "metadata": {},
     "output_type": "display_data"
    }
   ],
   "source": [
    "df.groupby('Date').count()['twp'].plot()\n",
    "plt.tight_layout()"
   ]
  },
  {
   "cell_type": "code",
   "execution_count": 66,
   "metadata": {
    "collapsed": false
   },
   "outputs": [
    {
     "data": {
      "image/png": "[encoded data removed]",
      "text/plain": [
       "<matplotlib.figure.Figure at 0x19680158470>"
      ]
     },
     "metadata": {},
     "output_type": "display_data"
    }
   ],
   "source": [
    "df[df['Reason']=='Traffic'].groupby('Date').count()['twp'].plot()\n",
    "plt.title('Traffic')\n",
    "plt.tight_layout()"
   ]
  },
  {
   "cell_type": "code",
   "execution_count": 67,
   "metadata": {
    "collapsed": false
   },
   "outputs": [
    {
     "data": {
      "image/png": "[encoded data removed]",
      "text/plain": [
       "<matplotlib.figure.Figure at 0x196801d8198>"
      ]
     },
     "metadata": {},
     "output_type": "display_data"
    }
   ],
   "source": [
    "df[df['Reason']=='Fire'].groupby('Date').count()['twp'].plot()\n",
    "plt.title('Fire')\n",
    "plt.tight_layout()"
   ]
  },
  {
   "cell_type": "code",
   "execution_count": 68,
   "metadata": {
    "collapsed": false
   },
   "outputs": [
    {
     "data": {
      "image/png": "[encoded data removed]",
      "text/plain": [
       "<matplotlib.figure.Figure at 0x196802135c0>"
      ]
     },
     "metadata": {},
     "output_type": "display_data"
    }
   ],
   "source": [
    "df[df['Reason']=='EMS'].groupby('Date').count()['twp'].plot()\n",
    "plt.title('EMS')\n",
    "plt.tight_layout()"
   ]
  },
  {
   "cell_type": "code",
   "execution_count": 69,
   "metadata": {
    "collapsed": false
   },
   "outputs": [
    {
     "data": {
      "text/html": [
       "<div>\n",
       "<table border=\"1\" class=\"dataframe\">\n",
       "  <thead>\n",
       "    <tr style=\"text-align: right;\">\n",
       "      <th>Hour</th>\n",
       "      <th>0</th>\n",
       "      <th>1</th>\n",
       "      <th>2</th>\n",
       "      <th>3</th>\n",
       "      <th>4</th>\n",
       "      <th>5</th>\n",
       "      <th>6</th>\n",
       "      <th>7</th>\n",
       "      <th>8</th>\n",
       "      <th>9</th>\n",
       "      <th>...</th>\n",
       "      <th>14</th>\n",
       "      <th>15</th>\n",
       "      <th>16</th>\n",
       "      <th>17</th>\n",
       "      <th>18</th>\n",
       "      <th>19</th>\n",
       "      <th>20</th>\n",
       "      <th>21</th>\n",
       "      <th>22</th>\n",
       "      <th>23</th>\n",
       "    </tr>\n",
       "    <tr>\n",
       "      <th>Day of Week</th>\n",
       "      <th></th>\n",
       "      <th></th>\n",
       "      <th></th>\n",
       "      <th></th>\n",
       "      <th></th>\n",
       "      <th></th>\n",
       "      <th></th>\n",
       "      <th></th>\n",
       "      <th></th>\n",
       "      <th></th>\n",
       "      <th></th>\n",
       "      <th></th>\n",
       "      <th></th>\n",
       "      <th></th>\n",
       "      <th></th>\n",
       "      <th></th>\n",
       "      <th></th>\n",
       "      <th></th>\n",
       "      <th></th>\n",
       "      <th></th>\n",
       "      <th></th>\n",
       "    </tr>\n",
       "  </thead>\n",
       "  <tbody>\n",
       "    <tr>\n",
       "      <th>Fri</th>\n",
       "      <td>275</td>\n",
       "      <td>235</td>\n",
       "      <td>191</td>\n",
       "      <td>175</td>\n",
       "      <td>201</td>\n",
       "      <td>194</td>\n",
       "      <td>372</td>\n",
       "      <td>598</td>\n",
       "      <td>742</td>\n",
       "      <td>752</td>\n",
       "      <td>...</td>\n",
       "      <td>932</td>\n",
       "      <td>980</td>\n",
       "      <td>1039</td>\n",
       "      <td>980</td>\n",
       "      <td>820</td>\n",
       "      <td>696</td>\n",
       "      <td>667</td>\n",
       "      <td>559</td>\n",
       "      <td>514</td>\n",
       "      <td>474</td>\n",
       "    </tr>\n",
       "    <tr>\n",
       "      <th>Mon</th>\n",
       "      <td>282</td>\n",
       "      <td>221</td>\n",
       "      <td>201</td>\n",
       "      <td>194</td>\n",
       "      <td>204</td>\n",
       "      <td>267</td>\n",
       "      <td>397</td>\n",
       "      <td>653</td>\n",
       "      <td>819</td>\n",
       "      <td>786</td>\n",
       "      <td>...</td>\n",
       "      <td>869</td>\n",
       "      <td>913</td>\n",
       "      <td>989</td>\n",
       "      <td>997</td>\n",
       "      <td>885</td>\n",
       "      <td>746</td>\n",
       "      <td>613</td>\n",
       "      <td>497</td>\n",
       "      <td>472</td>\n",
       "      <td>325</td>\n",
       "    </tr>\n",
       "    <tr>\n",
       "      <th>Sat</th>\n",
       "      <td>375</td>\n",
       "      <td>301</td>\n",
       "      <td>263</td>\n",
       "      <td>260</td>\n",
       "      <td>224</td>\n",
       "      <td>231</td>\n",
       "      <td>257</td>\n",
       "      <td>391</td>\n",
       "      <td>459</td>\n",
       "      <td>640</td>\n",
       "      <td>...</td>\n",
       "      <td>789</td>\n",
       "      <td>796</td>\n",
       "      <td>848</td>\n",
       "      <td>757</td>\n",
       "      <td>778</td>\n",
       "      <td>696</td>\n",
       "      <td>628</td>\n",
       "      <td>572</td>\n",
       "      <td>506</td>\n",
       "      <td>467</td>\n",
       "    </tr>\n",
       "    <tr>\n",
       "      <th>Sun</th>\n",
       "      <td>383</td>\n",
       "      <td>306</td>\n",
       "      <td>286</td>\n",
       "      <td>268</td>\n",
       "      <td>242</td>\n",
       "      <td>240</td>\n",
       "      <td>300</td>\n",
       "      <td>402</td>\n",
       "      <td>483</td>\n",
       "      <td>620</td>\n",
       "      <td>...</td>\n",
       "      <td>684</td>\n",
       "      <td>691</td>\n",
       "      <td>663</td>\n",
       "      <td>714</td>\n",
       "      <td>670</td>\n",
       "      <td>655</td>\n",
       "      <td>537</td>\n",
       "      <td>461</td>\n",
       "      <td>415</td>\n",
       "      <td>330</td>\n",
       "    </tr>\n",
       "    <tr>\n",
       "      <th>Thu</th>\n",
       "      <td>278</td>\n",
       "      <td>202</td>\n",
       "      <td>233</td>\n",
       "      <td>159</td>\n",
       "      <td>182</td>\n",
       "      <td>203</td>\n",
       "      <td>362</td>\n",
       "      <td>570</td>\n",
       "      <td>777</td>\n",
       "      <td>828</td>\n",
       "      <td>...</td>\n",
       "      <td>876</td>\n",
       "      <td>969</td>\n",
       "      <td>935</td>\n",
       "      <td>1013</td>\n",
       "      <td>810</td>\n",
       "      <td>698</td>\n",
       "      <td>617</td>\n",
       "      <td>553</td>\n",
       "      <td>424</td>\n",
       "      <td>354</td>\n",
       "    </tr>\n",
       "  </tbody>\n",
       "</table>\n",
       "<p>5 rows × 24 columns</p>\n",
       "</div>"
      ],
      "text/plain": [
       "Hour          0    1    2    3    4    5    6    7    8    9  ...    14   15  \\\n",
       "Day of Week                                                   ...              \n",
       "Fri          275  235  191  175  201  194  372  598  742  752 ...   932  980   \n",
       "Mon          282  221  201  194  204  267  397  653  819  786 ...   869  913   \n",
       "Sat          375  301  263  260  224  231  257  391  459  640 ...   789  796   \n",
       "Sun          383  306  286  268  242  240  300  402  483  620 ...   684  691   \n",
       "Thu          278  202  233  159  182  203  362  570  777  828 ...   876  969   \n",
       "\n",
       "Hour           16    17   18   19   20   21   22   23  \n",
       "Day of Week                                            \n",
       "Fri          1039   980  820  696  667  559  514  474  \n",
       "Mon           989   997  885  746  613  497  472  325  \n",
       "Sat           848   757  778  696  628  572  506  467  \n",
       "Sun           663   714  670  655  537  461  415  330  \n",
       "Thu           935  1013  810  698  617  553  424  354  \n",
       "\n",
       "[5 rows x 24 columns]"
      ]
     },
     "execution_count": 69,
     "metadata": {},
     "output_type": "execute_result"
    }
   ],
   "source": [
    "dayHour = df.groupby(by=['Day of Week','Hour']).count()['Reason'].unstack()\n",
    "dayHour.head()"
   ]
  },
  {
   "cell_type": "code",
   "execution_count": 70,
   "metadata": {
    "collapsed": false
   },
   "outputs": [
    {
     "data": {
      "text/plain": [
       "<matplotlib.axes._subplots.AxesSubplot at 0x196802bb6a0>"
      ]
     },
     "execution_count": 70,
     "metadata": {},
     "output_type": "execute_result"
    },
    {
     "data": {
      "image/png": "[encoded data removed]",
      "text/plain": [
       "<matplotlib.figure.Figure at 0x196800d8208>"
      ]
     },
     "metadata": {},
     "output_type": "display_data"
    }
   ],
   "source": [
    "sns.heatmap(dayHour,cmap='viridis')"
   ]
  },
  {
   "cell_type": "code",
   "execution_count": 71,
   "metadata": {
    "collapsed": false
   },
   "outputs": [
    {
     "data": {
      "text/plain": [
       "<seaborn.matrix.ClusterGrid at 0x19680368cc0>"
      ]
     },
     "execution_count": 71,
     "metadata": {},
     "output_type": "execute_result"
    },
    {
     "data": {
      "image/png": "[encoded data removed]",
      "text/plain": [
       "<matplotlib.figure.Figure at 0x196803686d8>"
      ]
     },
     "metadata": {},
     "output_type": "display_data"
    }
   ],
   "source": [
    "sns.clustermap(dayHour,cmap='viridis')"
   ]
  },
  {
   "cell_type": "code",
   "execution_count": 72,
   "metadata": {
    "collapsed": false
   },
   "outputs": [
    {
     "data": {
      "text/html": [
       "<div>\n",
       "<table border=\"1\" class=\"dataframe\">\n",
       "  <thead>\n",
       "    <tr style=\"text-align: right;\">\n",
       "      <th>Month</th>\n",
       "      <th>1</th>\n",
       "      <th>2</th>\n",
       "      <th>3</th>\n",
       "      <th>4</th>\n",
       "      <th>5</th>\n",
       "      <th>6</th>\n",
       "      <th>7</th>\n",
       "      <th>8</th>\n",
       "      <th>12</th>\n",
       "    </tr>\n",
       "    <tr>\n",
       "      <th>Day of Week</th>\n",
       "      <th></th>\n",
       "      <th></th>\n",
       "      <th></th>\n",
       "      <th></th>\n",
       "      <th></th>\n",
       "      <th></th>\n",
       "      <th></th>\n",
       "      <th></th>\n",
       "      <th></th>\n",
       "    </tr>\n",
       "  </thead>\n",
       "  <tbody>\n",
       "    <tr>\n",
       "      <th>Fri</th>\n",
       "      <td>1970</td>\n",
       "      <td>1581</td>\n",
       "      <td>1525</td>\n",
       "      <td>1958</td>\n",
       "      <td>1730</td>\n",
       "      <td>1649</td>\n",
       "      <td>2045</td>\n",
       "      <td>1310</td>\n",
       "      <td>1065</td>\n",
       "    </tr>\n",
       "    <tr>\n",
       "      <th>Mon</th>\n",
       "      <td>1727</td>\n",
       "      <td>1964</td>\n",
       "      <td>1535</td>\n",
       "      <td>1598</td>\n",
       "      <td>1779</td>\n",
       "      <td>1617</td>\n",
       "      <td>1692</td>\n",
       "      <td>1511</td>\n",
       "      <td>1257</td>\n",
       "    </tr>\n",
       "    <tr>\n",
       "      <th>Sat</th>\n",
       "      <td>2291</td>\n",
       "      <td>1441</td>\n",
       "      <td>1266</td>\n",
       "      <td>1734</td>\n",
       "      <td>1444</td>\n",
       "      <td>1388</td>\n",
       "      <td>1695</td>\n",
       "      <td>1099</td>\n",
       "      <td>978</td>\n",
       "    </tr>\n",
       "    <tr>\n",
       "      <th>Sun</th>\n",
       "      <td>1960</td>\n",
       "      <td>1229</td>\n",
       "      <td>1102</td>\n",
       "      <td>1488</td>\n",
       "      <td>1424</td>\n",
       "      <td>1333</td>\n",
       "      <td>1672</td>\n",
       "      <td>1021</td>\n",
       "      <td>907</td>\n",
       "    </tr>\n",
       "    <tr>\n",
       "      <th>Thu</th>\n",
       "      <td>1584</td>\n",
       "      <td>1596</td>\n",
       "      <td>1900</td>\n",
       "      <td>1601</td>\n",
       "      <td>1590</td>\n",
       "      <td>2065</td>\n",
       "      <td>1646</td>\n",
       "      <td>1230</td>\n",
       "      <td>1266</td>\n",
       "    </tr>\n",
       "  </tbody>\n",
       "</table>\n",
       "</div>"
      ],
      "text/plain": [
       "Month          1     2     3     4     5     6     7     8     12\n",
       "Day of Week                                                      \n",
       "Fri          1970  1581  1525  1958  1730  1649  2045  1310  1065\n",
       "Mon          1727  1964  1535  1598  1779  1617  1692  1511  1257\n",
       "Sat          2291  1441  1266  1734  1444  1388  1695  1099   978\n",
       "Sun          1960  1229  1102  1488  1424  1333  1672  1021   907\n",
       "Thu          1584  1596  1900  1601  1590  2065  1646  1230  1266"
      ]
     },
     "execution_count": 72,
     "metadata": {},
     "output_type": "execute_result"
    }
   ],
   "source": [
    "dayMonth = df.groupby(by=['Day of Week','Month']).count()['Reason'].unstack()\n",
    "dayMonth.head()"
   ]
  },
  {
   "cell_type": "code",
   "execution_count": 73,
   "metadata": {
    "collapsed": false
   },
   "outputs": [
    {
     "data": {
      "text/plain": [
       "<matplotlib.axes._subplots.AxesSubplot at 0x196804f32b0>"
      ]
     },
     "execution_count": 73,
     "metadata": {},
     "output_type": "execute_result"
    },
    {
     "data": {
      "image/png": "[encoded data removed]",
      "text/plain": [
       "<matplotlib.figure.Figure at 0x196804f15f8>"
      ]
     },
     "metadata": {},
     "output_type": "display_data"
    }
   ],
   "source": [
    "sns.heatmap(dayMonth,cmap='viridis')"
   ]
  },
  {
   "cell_type": "code",
   "execution_count": 74,
   "metadata": {
    "collapsed": false
   },
   "outputs": [
    {
     "data": {
      "text/plain": [
       "<seaborn.matrix.ClusterGrid at 0x19681db2748>"
      ]
     },
     "execution_count": 74,
     "metadata": {},
     "output_type": "execute_result"
    },
    {
     "data": {
      "image/png": "[encoded data removed]",
      "text/plain": [
       "<matplotlib.figure.Figure at 0x19681db2f98>"
      ]
     },
     "metadata": {},
     "output_type": "display_data"
    }
   ],
   "source": [
    "sns.clustermap(dayHour,cmap='viridis')"
   ]
  },
  {
   "cell_type": "code",
   "execution_count": 75,
   "metadata": {
    "collapsed": false
   },
   "outputs": [
    {
     "data": {
      "text/html": [
       "<div>\n",
       "<table border=\"1\" class=\"dataframe\">\n",
       "  <thead>\n",
       "    <tr style=\"text-align: right;\">\n",
       "      <th></th>\n",
       "      <th>lat</th>\n",
       "      <th>lng</th>\n",
       "      <th>desc</th>\n",
       "      <th>zip</th>\n",
       "      <th>title</th>\n",
       "      <th>timeStamp</th>\n",
       "      <th>twp</th>\n",
       "      <th>addr</th>\n",
       "      <th>e</th>\n",
       "      <th>Reason</th>\n",
       "      <th>Hour</th>\n",
       "      <th>Month</th>\n",
       "      <th>Day of Week</th>\n",
       "      <th>Date</th>\n",
       "    </tr>\n",
       "  </thead>\n",
       "  <tbody>\n",
       "    <tr>\n",
       "      <th>0</th>\n",
       "      <td>40.297876</td>\n",
       "      <td>-75.581294</td>\n",
       "      <td>REINDEER CT &amp; DEAD END;  NEW HANOVER; Station ...</td>\n",
       "      <td>19525.0</td>\n",
       "      <td>EMS: BACK PAINS/INJURY</td>\n",
       "      <td>2015-12-10 17:40:00</td>\n",
       "      <td>NEW HANOVER</td>\n",
       "      <td>REINDEER CT &amp; DEAD END</td>\n",
       "      <td>1</td>\n",
       "      <td>EMS</td>\n",
       "      <td>17</td>\n",
       "      <td>12</td>\n",
       "      <td>Thu</td>\n",
       "      <td>2015-12-10</td>\n",
       "    </tr>\n",
       "    <tr>\n",
       "      <th>1</th>\n",
       "      <td>40.258061</td>\n",
       "      <td>-75.264680</td>\n",
       "      <td>BRIAR PATH &amp; WHITEMARSH LN;  HATFIELD TOWNSHIP...</td>\n",
       "      <td>19446.0</td>\n",
       "      <td>EMS: DIABETIC EMERGENCY</td>\n",
       "      <td>2015-12-10 17:40:00</td>\n",
       "      <td>HATFIELD TOWNSHIP</td>\n",
       "      <td>BRIAR PATH &amp; WHITEMARSH LN</td>\n",
       "      <td>1</td>\n",
       "      <td>EMS</td>\n",
       "      <td>17</td>\n",
       "      <td>12</td>\n",
       "      <td>Thu</td>\n",
       "      <td>2015-12-10</td>\n",
       "    </tr>\n",
       "    <tr>\n",
       "      <th>2</th>\n",
       "      <td>40.121182</td>\n",
       "      <td>-75.351975</td>\n",
       "      <td>HAWS AVE; NORRISTOWN; 2015-12-10 @ 14:39:21-St...</td>\n",
       "      <td>19401.0</td>\n",
       "      <td>Fire: GAS-ODOR/LEAK</td>\n",
       "      <td>2015-12-10 17:40:00</td>\n",
       "      <td>NORRISTOWN</td>\n",
       "      <td>HAWS AVE</td>\n",
       "      <td>1</td>\n",
       "      <td>Fire</td>\n",
       "      <td>17</td>\n",
       "      <td>12</td>\n",
       "      <td>Thu</td>\n",
       "      <td>2015-12-10</td>\n",
       "    </tr>\n",
       "  </tbody>\n",
       "</table>\n",
       "</div>"
      ],
      "text/plain": [
       "         lat        lng                                               desc  \\\n",
       "0  40.297876 -75.581294  REINDEER CT & DEAD END;  NEW HANOVER; Station ...   \n",
       "1  40.258061 -75.264680  BRIAR PATH & WHITEMARSH LN;  HATFIELD TOWNSHIP...   \n",
       "2  40.121182 -75.351975  HAWS AVE; NORRISTOWN; 2015-12-10 @ 14:39:21-St...   \n",
       "\n",
       "       zip                    title           timeStamp                twp  \\\n",
       "0  19525.0   EMS: BACK PAINS/INJURY 2015-12-10 17:40:00        NEW HANOVER   \n",
       "1  19446.0  EMS: DIABETIC EMERGENCY 2015-12-10 17:40:00  HATFIELD TOWNSHIP   \n",
       "2  19401.0      Fire: GAS-ODOR/LEAK 2015-12-10 17:40:00         NORRISTOWN   \n",
       "\n",
       "                         addr  e Reason  Hour  Month Day of Week        Date  \n",
       "0      REINDEER CT & DEAD END  1    EMS    17     12         Thu  2015-12-10  \n",
       "1  BRIAR PATH & WHITEMARSH LN  1    EMS    17     12         Thu  2015-12-10  \n",
       "2                    HAWS AVE  1   Fire    17     12         Thu  2015-12-10  "
      ]
     },
     "execution_count": 75,
     "metadata": {},
     "output_type": "execute_result"
    }
   ],
   "source": [
    "df.head(3)"
   ]
  },
  {
   "cell_type": "code",
   "execution_count": 76,
   "metadata": {
    "collapsed": false
   },
   "outputs": [
    {
     "data": {
      "text/plain": [
       "lat            0\n",
       "lng            0\n",
       "desc           0\n",
       "zip            0\n",
       "title          0\n",
       "timeStamp      0\n",
       "twp            0\n",
       "addr           0\n",
       "e              0\n",
       "Reason         0\n",
       "Hour           0\n",
       "Month          0\n",
       "Day of Week    0\n",
       "Date           0\n",
       "dtype: int64"
      ]
     },
     "execution_count": 76,
     "metadata": {},
     "output_type": "execute_result"
    }
   ],
   "source": [
    "#data cleaning\n",
    "df.apply(lambda x:sum(x.isnull()),axis=0)"
   ]
  },
  {
   "cell_type": "code",
   "execution_count": 77,
   "metadata": {
    "collapsed": false
   },
   "outputs": [
    {
     "data": {
      "text/plain": [
       "SHANNONDELL DR & SHANNONDELL BLVD                 1457\n",
       "MAIN ST & OLD SUMNEYTOWN PIKE                      390\n",
       "THE FAIRWAY  & RYDAL RD                            260\n",
       "GULPH RD & KIRK AVE                                235\n",
       "EVERGREEN RD & W LIGHTCAP RD                       232\n",
       "BLACK ROCK RD & S TRAPPE RD                        219\n",
       "GERMANTOWN PIKE & HANNAH AVE                       210\n",
       "EAGLEVILLE RD & SUNDERLAND DR                      209\n",
       "DAVISVILLE RD & PENNYPACK RD                       203\n",
       "SCHUYLKILL EXPY & WEADLEY RD OVERPASS              199\n",
       "BETHLEHEM PIKE & NORTH WALES RD                    189\n",
       "NO LOCATION - NEIGHBORING COUNTY                   182\n",
       "BETHLEHEM PIKE & TAYLOR RD                         176\n",
       "SCHUYLKILL EXPY & CONSHOHOCKEN STATE UNDERPASS     175\n",
       "PRISON RD & PIGGERY RD                             175\n",
       "BROAD ST & E 6TH ST                                173\n",
       "HUNTINGDON PIKE & MOREDON RD                       171\n",
       "SUSQUEHANNA RD & HUNTINGDON RD                     169\n",
       "VALLEY FORGE CIR & OLD VALLEY FORGE RD             166\n",
       "TWIN SILO DR & MORRIS RD                           164\n",
       "CITY AVE & HOLLINGSWORTH RD                        160\n",
       "GERMANTOWN PIKE & LAUNFALL RD                      157\n",
       "MORELAND RD & EASTON RD                            157\n",
       "SCHUYLKILL EXPY & WAVERLY RD UNDERPASS             152\n",
       "SCHUYLKILL EXPY & CROTON RD UNDERPASS              149\n",
       "SUMMIT ST & COLONIAL AVE                           148\n",
       "GERMANTOWN PIKE & HALLOWELL RD                     146\n",
       "DEKALB PIKE & COLONIAL DR                          144\n",
       "NORRISTOWN RD & RADCLIFF LN                        142\n",
       "PERKIOMEN AVE & 3RD ST                             140\n",
       "                                                  ... \n",
       "NOBLE RD & RYDAL RD                                  1\n",
       "MARIAN RD & URSINUS AVE                              1\n",
       "HEWETT RD & PAXSON AVE                               1\n",
       "TOURNAMENT DR & DEKALB PIKE                          1\n",
       "KERRI CT & KRISTY CT                                 1\n",
       "SIERRA RD                                            1\n",
       "BEVERLY RD & FORREST AVE                             1\n",
       "ALEXANDRA DR & AMY DR                                1\n",
       "INDEPENDENCE WAY & DOWNING DR                        1\n",
       "GAGE LN & DEAD END                                   1\n",
       "MIRIAM AVE                                           1\n",
       "RAILROAD ST                                          1\n",
       "N LEWIS RD & OAK LN                                  1\n",
       "BARCLAY CIR & ASH RD                                 1\n",
       "ASHENFELTER RD & BLACK ROCK RD                       1\n",
       "E 6TH ST & BITTING ALY                               1\n",
       "SHEPHERDS WAY & SANDY HILL RD                        1\n",
       "MATHERS RD & DEAD END                                1\n",
       "ROBIN DR & CONGO NIANTIC RD                          1\n",
       "LIMERICK CENTER RD & ENTERPRISE DR                   1\n",
       "PARKVIEW DR & REMINGTON RD                           1\n",
       "W 8TH ST                                             1\n",
       "PATRICIA AVE & BRENTWOOD DR                          1\n",
       "CAMBRIDGE DR & W WELSH RD                            1\n",
       "N GULPH RD & 1ST AVE                                 1\n",
       "WARREN ST & MARKLEY ST                               1\n",
       "ROSSITER AVE & BLUE JAY RD                           1\n",
       "ROBINHOOD RD & WOODLEA RD                            1\n",
       "TREMONT AVE & MOORE ST                               1\n",
       "MOREBORO RD & CROOKED BILLET RD                      1\n",
       "Name: addr, dtype: int64"
      ]
     },
     "execution_count": 77,
     "metadata": {},
     "output_type": "execute_result"
    }
   ],
   "source": [
    "df['addr'].value_counts()"
   ]
  },
  {
   "cell_type": "code",
   "execution_count": 78,
   "metadata": {
    "collapsed": false
   },
   "outputs": [
    {
     "data": {
      "text/plain": [
       "lat            0\n",
       "lng            0\n",
       "desc           0\n",
       "zip            0\n",
       "title          0\n",
       "timeStamp      0\n",
       "twp            0\n",
       "addr           0\n",
       "e              0\n",
       "Reason         0\n",
       "Hour           0\n",
       "Month          0\n",
       "Day of Week    0\n",
       "Date           0\n",
       "dtype: int64"
      ]
     },
     "execution_count": 78,
     "metadata": {},
     "output_type": "execute_result"
    }
   ],
   "source": [
    "df['zip'].fillna(19401,inplace=True)\n",
    "df['twp'].fillna('LOWER MERION',inplace=True)\n",
    "df['addr'].fillna('SHANNONDELL DR & SHANNONDELL BLVD',inplace=True)\n",
    "df.apply(lambda x:sum(x.isnull()),axis=0)\n"
   ]
  },
  {
   "cell_type": "code",
   "execution_count": 79,
   "metadata": {
    "collapsed": true
   },
   "outputs": [],
   "source": [
    "x=df.iloc[:,[0,1,3]].values\n",
    "y=df.iloc[:,[4]].values"
   ]
  },
  {
   "cell_type": "code",
   "execution_count": 80,
   "metadata": {
    "collapsed": true
   },
   "outputs": [],
   "source": [
    "#splliting dataset into training and testing\n",
    "from sklearn.cross_validation import train_test_split\n",
    "x_train,x_test,y_train,y_test=train_test_split(x,y,test_size=0.4,random_state=0)"
   ]
  },
  {
   "cell_type": "code",
   "execution_count": 81,
   "metadata": {
    "collapsed": false
   },
   "outputs": [
    {
     "data": {
      "text/plain": [
       "array([[    40.0774952,    -75.3620325,  19406.       ],\n",
       "       [    40.1348213,    -75.1150608,  19001.       ],\n",
       "       [    40.2790556,    -75.5742017,  19525.       ],\n",
       "       ..., \n",
       "       [    40.1552833,    -75.2642296,  19422.       ],\n",
       "       [    40.1370778,    -75.1135686,  19001.       ],\n",
       "       [    40.1829511,    -75.1160776,  19040.       ]])"
      ]
     },
     "execution_count": 81,
     "metadata": {},
     "output_type": "execute_result"
    }
   ],
   "source": [
    "x_train"
   ]
  },
  {
   "cell_type": "code",
   "execution_count": 82,
   "metadata": {
    "collapsed": false
   },
   "outputs": [
    {
     "data": {
      "text/plain": [
       "array([[    40.2586572,    -75.2228042,  19446.       ],\n",
       "       [    40.2275694,    -75.2799321,  19446.       ],\n",
       "       [    40.172526 ,    -75.2846533,  19422.       ],\n",
       "       ..., \n",
       "       [    40.0922662,    -75.2870084,  19428.       ],\n",
       "       [    40.1020429,    -75.3794049,  19406.       ],\n",
       "       [    40.113372 ,    -75.3413966,  19401.       ]])"
      ]
     },
     "execution_count": 82,
     "metadata": {},
     "output_type": "execute_result"
    }
   ],
   "source": [
    "x_test"
   ]
  },
  {
   "cell_type": "code",
   "execution_count": 103,
   "metadata": {
    "collapsed": false
   },
   "outputs": [
    {
     "data": {
      "text/plain": [
       "DecisionTreeClassifier(class_weight=None, criterion='gini', max_depth=None,\n",
       "            max_features=None, max_leaf_nodes=None, min_samples_leaf=1,\n",
       "            min_samples_split=2, min_weight_fraction_leaf=0.0,\n",
       "            presort=False, random_state=None, splitter='best')"
      ]
     },
     "execution_count": 103,
     "metadata": {},
     "output_type": "execute_result"
    }
   ],
   "source": [
    "#algorithm\n",
    "from sklearn.tree import DecisionTreeClassifier\n",
    "clf=DecisionTreeClassifier()\n",
    "clf.fit(x_train,y_train)\n"
   ]
  },
  {
   "cell_type": "code",
   "execution_count": 104,
   "metadata": {
    "collapsed": false
   },
   "outputs": [
    {
     "data": {
      "text/plain": [
       "array(['EMS: RESPIRATORY EMERGENCY', 'EMS: RESPIRATORY EMERGENCY',\n",
       "       'EMS: HEAD INJURY', ..., 'Traffic: VEHICLE ACCIDENT -',\n",
       "       'Fire: FIRE ALARM', 'Traffic: VEHICLE ACCIDENT -'], dtype=object)"
      ]
     },
     "execution_count": 104,
     "metadata": {},
     "output_type": "execute_result"
    }
   ],
   "source": [
    "#predicting on test cases\n",
    "pred=clf.predict(x_test)\n",
    "pred"
   ]
  },
  {
   "cell_type": "code",
   "execution_count": 105,
   "metadata": {
    "collapsed": false
   },
   "outputs": [
    {
     "data": {
      "text/plain": [
       "0.23881197075156418"
      ]
     },
     "execution_count": 105,
     "metadata": {},
     "output_type": "execute_result"
    }
   ],
   "source": [
    "#accurate score on test\n",
    "from sklearn.metrics import accuracy_score\n",
    "dtc_accu_test=accuracy_score(y_test,pred)\n",
    "dtc_accu_test"
   ]
  },
  {
   "cell_type": "code",
   "execution_count": 109,
   "metadata": {
    "collapsed": false
   },
   "outputs": [
    {
     "name": "stdout",
     "output_type": "stream",
     "text": [
      "THE END\n"
     ]
    }
   ],
   "source": [
    "print(\"THE END\")"
   ]
  }
 ],
 "metadata": {
  "anaconda-cloud": {},
  "kernelspec": {
   "display_name": "Python [conda root]",
   "language": "python",
   "name": "conda-root-py"
  },
  "language_info": {
   "codemirror_mode": {
    "name": "ipython",
    "version": 3
   },
   "file_extension": ".py",
   "mimetype": "text/x-python",
   "name": "python",
   "nbconvert_exporter": "python",
   "pygments_lexer": "ipython3",
   "version": "3.5.2"
  }
 },
 "nbformat": 4,
 "nbformat_minor": 1
}
